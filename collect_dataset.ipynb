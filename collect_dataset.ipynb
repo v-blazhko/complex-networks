{
 "cells": [
  {
   "cell_type": "code",
   "execution_count": 34,
   "id": "three-poetry",
   "metadata": {},
   "outputs": [],
   "source": [
    "import json\n",
    "import requests\n",
    "import flickrapi\n",
    "import pandas as pd\n",
    "from tqdm import tqdm\n",
    "from vincenty import vincenty"
   ]
  },
  {
   "cell_type": "code",
   "execution_count": 35,
   "id": "powered-french",
   "metadata": {},
   "outputs": [],
   "source": [
    "api_key = u'b766ae533b2843f748b174f53885eee4'\n",
    "api_secret = u'ac3884caa9690723'"
   ]
  },
  {
   "cell_type": "code",
   "execution_count": 36,
   "id": "novel-celebration",
   "metadata": {},
   "outputs": [],
   "source": [
    "flickr = flickrapi.FlickrAPI(api_key, api_secret)"
   ]
  },
  {
   "cell_type": "code",
   "execution_count": 37,
   "id": "meaningful-prerequisite",
   "metadata": {},
   "outputs": [
    {
     "name": "stdout",
     "output_type": "stream",
     "text": [
      "{'photo': {'id': '50966372106', 'location': {'latitude': '63.447933', 'longitude': '26.673366', 'accuracy': '16', 'context': '0', 'locality': {'_content': 'Pielavesi'}, 'county': {'_content': 'Ylä-Savo'}, 'region': {'_content': 'North Savo'}, 'country': {'_content': 'Finland'}, 'neighbourhood': {'_content': 'Nousiala'}}}, 'stat': 'ok'}\n"
     ]
    }
   ],
   "source": [
    "flickr = flickrapi.FlickrAPI(api_key, api_secret, format='json')\n",
    "photos = flickr.photos.search(per_page='250', bbox='21.402542, 60.562697, 28.664383, 69.766582', has_geo=1)\n",
    "parsed = json.loads(photos.decode('utf-8'))\n",
    "\n",
    "id = parsed['photos']['photo'][0]['id']\n",
    "geo = flickr.do_flickr_call('flickr.photos.geo.getLocation', photo_id=id)\n",
    "print(json.loads(geo.decode('utf-8')))\n"
   ]
  },
  {
   "cell_type": "code",
   "execution_count": 40,
   "id": "synthetic-upgrade",
   "metadata": {},
   "outputs": [
    {
     "name": "stderr",
     "output_type": "stream",
     "text": [
      "100%|████████████████████████████████████████████████████████████████████████████████████████████████████████████████████████████████████████████████████████████████████████████████████████████████████████████████████████████████████| 54/54 [00:23<00:00,  2.34it/s]\n"
     ]
    }
   ],
   "source": [
    "photos_set = []\n",
    "for i in tqdm(range(1,55)):\n",
    "    res = flickr.photos.search(per_page='250', bbox='20.410, 59.800, 30.920, 69.910', has_geo=1)\n",
    "    parsed = json.loads(photos.decode('utf-8'))\n",
    "    for p in parsed['photos']['photo']:\n",
    "        photos_set.append(p)"
   ]
  },
  {
   "cell_type": "code",
   "execution_count": 41,
   "id": "significant-condition",
   "metadata": {},
   "outputs": [
    {
     "data": {
      "text/plain": [
       "9342"
      ]
     },
     "execution_count": 41,
     "metadata": {},
     "output_type": "execute_result"
    }
   ],
   "source": [
    "len(photos_set)"
   ]
  },
  {
   "cell_type": "code",
   "execution_count": 42,
   "id": "coastal-desktop",
   "metadata": {},
   "outputs": [
    {
     "data": {
      "text/plain": [
       "{'id': '50966372106',\n",
       " 'owner': '18215332@N00',\n",
       " 'secret': '7e8144f8b3',\n",
       " 'server': '65535',\n",
       " 'farm': 66,\n",
       " 'title': 'Flowing',\n",
       " 'ispublic': 1,\n",
       " 'isfriend': 0,\n",
       " 'isfamily': 0}"
      ]
     },
     "execution_count": 42,
     "metadata": {},
     "output_type": "execute_result"
    }
   ],
   "source": [
    "photos_set[0]"
   ]
  },
  {
   "cell_type": "code",
   "execution_count": 43,
   "id": "bronze-manchester",
   "metadata": {},
   "outputs": [
    {
     "name": "stderr",
     "output_type": "stream",
     "text": [
      "100%|████████████████████████████████████████████████████████████████████████████████████████████████████████████████████████████████████████████████████████████████████████████████████████████████████████████████████████████████| 9342/9342 [34:13<00:00,  4.55it/s]\n"
     ]
    }
   ],
   "source": [
    "# photo_id, lat, lon, name, locality, neighbourhood\n",
    "photo_ids = []\n",
    "lats = []\n",
    "longs = []\n",
    "names = []\n",
    "localities = []\n",
    "neighbourhoods = []\n",
    "for p in tqdm(photos_set):\n",
    "    photo_id = p['id']\n",
    "    geo = flickr.do_flickr_call('flickr.photos.geo.getLocation', photo_id=photo_id)\n",
    "    parsed = json.loads(geo.decode('utf-8'))\n",
    "    ## construct arrays of data\n",
    "    photo_ids.append(photo_id)\n",
    "    names.append(p['title'])\n",
    "    lats.append(parsed['photo']['location']['latitude'])\n",
    "    longs.append(parsed['photo']['location']['longitude'])\n",
    "    localities.append(parsed['photo']['location']['locality']['_content'])\n",
    "    neighbourhoods.append(parsed['photo']['location']['neighbourhood']['_content'])"
   ]
  },
  {
   "cell_type": "markdown",
   "id": "identical-belly",
   "metadata": {},
   "source": [
    "## Data collection strategy:\n",
    "We collect geographical information on all pictures taken in Finland inside the BBOX 21.402542, 60.562697, 28.664383, 69.766582.\n",
    "Then, we test various clusterization algorithms to create ~500 nodes where each node represents a location.\n",
    "For each location we can find ot the number of pictures taken, the most common names and tags. \n",
    "The edge is represented by distance calculated with Vincenty formula. "
   ]
  },
  {
   "cell_type": "code",
   "execution_count": 33,
   "id": "listed-playback",
   "metadata": {},
   "outputs": [],
   "source": [
    "df = pd.DataFrame({'id': photo_ids,\n",
    "                  'name': names,\n",
    "                  'lat': lats,\n",
    "                  'lon': longs,\n",
    "                  'locality': localities,\n",
    "                  'neighbourhood': neighbourhoods})\n",
    "df.to_csv('photoset.csv')"
   ]
  }
 ],
 "metadata": {
  "kernelspec": {
   "display_name": "Python 3",
   "language": "python",
   "name": "python3"
  },
  "language_info": {
   "codemirror_mode": {
    "name": "ipython",
    "version": 3
   },
   "file_extension": ".py",
   "mimetype": "text/x-python",
   "name": "python",
   "nbconvert_exporter": "python",
   "pygments_lexer": "ipython3",
   "version": "3.8.6"
  }
 },
 "nbformat": 4,
 "nbformat_minor": 5
}
