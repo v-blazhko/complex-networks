{
 "cells": [
  {
   "cell_type": "code",
   "execution_count": 1,
   "id": "three-poetry",
   "metadata": {},
   "outputs": [],
   "source": [
    "import json\n",
    "import requests\n",
    "import flickrapi\n",
    "import pandas as pd\n",
    "from tqdm import tqdm\n",
    "from vincenty import vincenty\n",
    "import matplotlib.pyplot as plt\n",
    "import time\n",
    "import numpy as np"
   ]
  },
  {
   "cell_type": "code",
   "execution_count": 2,
   "id": "powered-french",
   "metadata": {},
   "outputs": [],
   "source": [
    "api_key = u'b766ae533b2843f748b174f53885eee4'\n",
    "api_secret = u'ac3884caa9690723'"
   ]
  },
  {
   "cell_type": "code",
   "execution_count": 3,
   "id": "novel-celebration",
   "metadata": {},
   "outputs": [],
   "source": [
    "flickr = flickrapi.FlickrAPI(api_key, api_secret, format='json')"
   ]
  },
  {
   "cell_type": "code",
   "execution_count": 4,
   "id": "engaged-strip",
   "metadata": {},
   "outputs": [
    {
     "name": "stdout",
     "output_type": "stream",
     "text": [
      "[(20.41, 59.8, 22.91, 61.485), (22.91, 59.8, 25.41, 61.485), (20.41, 61.485, 22.91, 63.17), (22.91, 61.485, 25.41, 63.17), (20.41, 63.17, 22.91, 64.855), (22.91, 63.17, 25.41, 64.855), (20.41, 64.855, 22.91, 66.54), (22.91, 64.855, 25.41, 66.54), (20.41, 66.54, 22.91, 68.22500000000001), (22.91, 66.54, 25.41, 68.22500000000001), (20.41, 68.22500000000001, 22.91, 69.91), (22.91, 68.22500000000001, 25.41, 69.91)]\n",
      "12\n"
     ]
    }
   ],
   "source": [
    "min_lat = 59.800\n",
    "max_lat = 69.910\n",
    "\n",
    "# for Veronica\n",
    "min_lon = 20.410\n",
    "max_lon = 25.410\n",
    "\n",
    "\n",
    "# for Ashish\n",
    "#min_lon = 25.410\n",
    "#max_lon = 30.410\n",
    "\n",
    "n_lat = 6\n",
    "n_lon = 2\n",
    "\n",
    "start_lat = min_lat\n",
    "start_lon = min_lon\n",
    "\n",
    "lats = np.arange(min_lat, max_lat, (max_lat-min_lat)/n_lat)\n",
    "lons = np.arange(min_lon, max_lon, (max_lon-min_lon)/n_lon)\n",
    "\n",
    "bboxes = []\n",
    "\n",
    "for i_lat, lat in enumerate(lats):\n",
    "    if  (i_lat + 1 == n_lat):\n",
    "        end_lat = max_lat\n",
    "    else:\n",
    "        end_lat = lats[i_lat+1]\n",
    "            \n",
    "    for i_lon, lon in enumerate(lons):\n",
    "        if (i_lon + 1 == n_lon):\n",
    "            end_lon = max_lon\n",
    "        else:\n",
    "            end_lon = lons[i_lon+1]\n",
    "        \n",
    "        bbox = (lon, lat, end_lon, end_lat)\n",
    "        bboxes.append(bbox)\n",
    "\n",
    "print(bboxes)\n",
    "print(len(bboxes))"
   ]
  },
  {
   "cell_type": "code",
   "execution_count": 5,
   "id": "realistic-paragraph",
   "metadata": {},
   "outputs": [
    {
     "name": "stdout",
     "output_type": "stream",
     "text": [
      "{'photos': {'page': 1, 'pages': 933, 'perpage': 250, 'total': '233224', 'photo': [{'id': '50991982323', 'owner': '63796798@N00', 'secret': '516cebe7e0', 'server': '65535', 'farm': 66, 'title': 'Tukkutori', 'ispublic': 1, 'isfriend': 0, 'isfamily': 0}, {'id': '50992666801', 'owner': '63796798@N00', 'secret': '033c679dac', 'server': '65535', 'farm': 66, 'title': 'There is no way to peace, peace is the way', 'ispublic': 1, 'isfriend': 0, 'isfamily': 0}, {'id': '50992084416', 'owner': '16391511@N00', 'secret': 'f513ac14b2', 'server': '65535', 'farm': 66, 'title': 'Ice-Covered Taivallahti', 'ispublic': 1, 'isfriend': 0, 'isfamily': 0}, {'id': '50990491786', 'owner': '70192309@N03', 'secret': 'e3d7c6bf4a', 'server': '65535', 'farm': 66, 'title': 'Lightroom-852', 'ispublic': 1, 'isfriend': 0, 'isfamily': 0}, {'id': '50990264196', 'owner': '91977610@N00', 'secret': 'a39ae4fc18', 'server': '65535', 'farm': 66, 'title': \"St. Isaac's Cathedral\", 'ispublic': 1, 'isfriend': 0, 'isfamily': 0}, {'id': '50989447583', 'owner': '95663578@N04', 'secret': 'd0018b7f92', 'server': '65535', 'farm': 66, 'title': 'Last sunset of the month', 'ispublic': 1, 'isfriend': 0, 'isfamily': 0}, {'id': '50990067231', 'owner': '75010855@N03', 'secret': '65d2572cb4', 'server': '65535', 'farm': 66, 'title': 'Comp_206', 'ispublic': 1, 'isfriend': 0, 'isfamily': 0}, {'id': '50990067176', 'owner': '75010855@N03', 'secret': '9f73e55e0b', 'server': '65535', 'farm': 66, 'title': 'Comp_206', 'ispublic': 1, 'isfriend': 0, 'isfamily': 0}, {'id': '50989825621', 'owner': '94180748@N06', 'secret': '2612bfe3cb', 'server': '65535', 'farm': 66, 'title': 'Jurtti 2021 A', 'ispublic': 1, 'isfriend': 0, 'isfamily': 0}, {'id': '50989054162', 'owner': '35000407@N03', 'secret': '7ee22053f5', 'server': '65535', 'farm': 66, 'title': 'DJI-0663', 'ispublic': 1, 'isfriend': 0, 'isfamily': 0}, {'id': '50988534372', 'owner': '105930568@N08', 'secret': '5bf531ff0d', 'server': '65535', 'farm': 66, 'title': '096A0007-2.jpg', 'ispublic': 1, 'isfriend': 0, 'isfamily': 0}, {'id': '50988488177', 'owner': '41505253@N00', 'secret': '009ab112e5', 'server': '65535', 'farm': 66, 'title': 'Late winter 2020-21', 'ispublic': 1, 'isfriend': 0, 'isfamily': 0}, {'id': '50988380816', 'owner': '41505253@N00', 'secret': '960ab8b736', 'server': '65535', 'farm': 66, 'title': 'Late winter 2020-21', 'ispublic': 1, 'isfriend': 0, 'isfamily': 0}, {'id': '50988487997', 'owner': '41505253@N00', 'secret': 'df4f338462', 'server': '65535', 'farm': 66, 'title': 'Late winter 2020-21', 'ispublic': 1, 'isfriend': 0, 'isfamily': 0}, {'id': '50987672978', 'owner': '41505253@N00', 'secret': '08cc541e08', 'server': '65535', 'farm': 66, 'title': 'Late winter 2020-21', 'ispublic': 1, 'isfriend': 0, 'isfamily': 0}, {'id': '50988487837', 'owner': '41505253@N00', 'secret': '2e62fe76d1', 'server': '65535', 'farm': 66, 'title': 'Late winter 2020-21', 'ispublic': 1, 'isfriend': 0, 'isfamily': 0}, {'id': '50988487277', 'owner': '41505253@N00', 'secret': '11ebd2bb0a', 'server': '65535', 'farm': 66, 'title': 'Late winter 2020-21', 'ispublic': 1, 'isfriend': 0, 'isfamily': 0}, {'id': '50988379971', 'owner': '41505253@N00', 'secret': '87d41d866f', 'server': '65535', 'farm': 66, 'title': 'Late winter 2020-21', 'ispublic': 1, 'isfriend': 0, 'isfamily': 0}, {'id': '50987860692', 'owner': '128329347@N04', 'secret': 'a96864f0d1', 'server': '65535', 'farm': 66, 'title': 'Cyanistes caeruleus - Eurasian blue tit', 'ispublic': 1, 'isfriend': 0, 'isfamily': 0}, {'id': '50987093757', 'owner': '60027857@N00', 'secret': '09878ee3b5', 'server': '65535', 'farm': 66, 'title': '', 'ispublic': 1, 'isfriend': 0, 'isfamily': 0}, {'id': '50985904363', 'owner': '63796798@N00', 'secret': '1a4dd1d703', 'server': '65535', 'farm': 66, 'title': 'Crystals', 'ispublic': 1, 'isfriend': 0, 'isfamily': 0}, {'id': '50986612301', 'owner': '63796798@N00', 'secret': '4e27af4e9c', 'server': '65535', 'farm': 66, 'title': 'Skylines', 'ispublic': 1, 'isfriend': 0, 'isfamily': 0}, {'id': '50985817943', 'owner': '142785886@N06', 'secret': 'c5fc7acc27', 'server': '65535', 'farm': 66, 'title': '20190127-111650_Санкт-Петербур', 'ispublic': 1, 'isfriend': 0, 'isfamily': 0}, {'id': '50985645468', 'owner': '18844964@N04', 'secret': 'a3d66a2e43', 'server': '65535', 'farm': 66, 'title': 'Ann-Katrin Rosenblad', 'ispublic': 1, 'isfriend': 0, 'isfamily': 0}, {'id': '50986164671', 'owner': '70725415@N05', 'secret': '95bce25174', 'server': '65535', 'farm': 66, 'title': 'Memory lane to autumn 2020', 'ispublic': 1, 'isfriend': 0, 'isfamily': 0}, {'id': '50985436528', 'owner': '155555533@N08', 'secret': '4a4b3f75cd', 'server': '65535', 'farm': 66, 'title': 'Dazzled', 'ispublic': 1, 'isfriend': 0, 'isfamily': 0}, {'id': '50986115446', 'owner': '97616304@N02', 'secret': 'b1afe6403e', 'server': '65535', 'farm': 66, 'title': 'Ichabod Crane', 'ispublic': 1, 'isfriend': 0, 'isfamily': 0}, {'id': '50986074027', 'owner': '188257341@N04', 'secret': 'ce2d06e1e3', 'server': '65535', 'farm': 66, 'title': 'Helsinki Cathedral', 'ispublic': 1, 'isfriend': 0, 'isfamily': 0}, {'id': '50985011653', 'owner': '100496543@N02', 'secret': '0b69e5b97a', 'server': '65535', 'farm': 66, 'title': 'IMG_20210226_091557-01', 'ispublic': 1, 'isfriend': 0, 'isfamily': 0}, {'id': '50985010828', 'owner': '100496543@N02', 'secret': 'aab18fba1f', 'server': '65535', 'farm': 66, 'title': 'IMG_20210226_235938-01', 'ispublic': 1, 'isfriend': 0, 'isfamily': 0}, {'id': '50985009733', 'owner': '112616946@N08', 'secret': 'd7d85f2d78', 'server': '65535', 'farm': 66, 'title': 'Over the hills.', 'ispublic': 1, 'isfriend': 0, 'isfamily': 0}, {'id': '50985329877', 'owner': '97616304@N02', 'secret': 'feb190bfce', 'server': '65535', 'farm': 66, 'title': 'Fire in the sky', 'ispublic': 1, 'isfriend': 0, 'isfamily': 0}, {'id': '50985140686', 'owner': '162150707@N06', 'secret': '7494fe66a1', 'server': '65535', 'farm': 66, 'title': 'NWER7901', 'ispublic': 1, 'isfriend': 0, 'isfamily': 0}, {'id': '50985249232', 'owner': '162150707@N06', 'secret': '34edd3a85f', 'server': '65535', 'farm': 66, 'title': 'QPLV3579', 'ispublic': 1, 'isfriend': 0, 'isfamily': 0}, {'id': '50985212062', 'owner': '162150707@N06', 'secret': '6d415ffc3f', 'server': '65535', 'farm': 66, 'title': 'Roses', 'ispublic': 1, 'isfriend': 0, 'isfamily': 0}, {'id': '50985211147', 'owner': '162150707@N06', 'secret': 'b04a64a10f', 'server': '65535', 'farm': 66, 'title': 'Gulf of Finland', 'ispublic': 1, 'isfriend': 0, 'isfamily': 0}, {'id': '50984394703', 'owner': '162150707@N06', 'secret': '608142b38c', 'server': '65535', 'farm': 66, 'title': 'TVSQ2833', 'ispublic': 1, 'isfriend': 0, 'isfamily': 0}, {'id': '50984394678', 'owner': '162150707@N06', 'secret': 'cb027a768b', 'server': '65535', 'farm': 66, 'title': 'Primorsky District, St Petersburg', 'ispublic': 1, 'isfriend': 0, 'isfamily': 0}, {'id': '50985101831', 'owner': '162150707@N06', 'secret': 'eac98e949e', 'server': '65535', 'farm': 66, 'title': 'Gulf of Finland', 'ispublic': 1, 'isfriend': 0, 'isfamily': 0}, {'id': '50985075196', 'owner': '81466295@N04', 'secret': '48efed0e20', 'server': '65535', 'farm': 66, 'title': '2021-02-27_01-02-58', 'ispublic': 1, 'isfriend': 0, 'isfamily': 0}, {'id': '50984365713', 'owner': '81466295@N04', 'secret': '80c6c1c3e4', 'server': '65535', 'farm': 66, 'title': '2021-02-27_01-01-31', 'ispublic': 1, 'isfriend': 0, 'isfamily': 0}, {'id': '50984360588', 'owner': '81466295@N04', 'secret': 'fc64d301e9', 'server': '65535', 'farm': 66, 'title': '2021-02-27_12-58-37', 'ispublic': 1, 'isfriend': 0, 'isfamily': 0}, {'id': '50982637858', 'owner': '44522409@N04', 'secret': '8f3d9c80e7', 'server': '65535', 'farm': 66, 'title': '', 'ispublic': 1, 'isfriend': 0, 'isfamily': 0}, {'id': '50982637773', 'owner': '44522409@N04', 'secret': '158e641c48', 'server': '65535', 'farm': 66, 'title': '', 'ispublic': 1, 'isfriend': 0, 'isfamily': 0}, {'id': '50983038961', 'owner': '97616304@N02', 'secret': 'e1ac6171ba', 'server': '65535', 'farm': 66, 'title': 'Lantern', 'ispublic': 1, 'isfriend': 0, 'isfamily': 0}, {'id': '50982858366', 'owner': '60027857@N00', 'secret': '3792b1670d', 'server': '65535', 'farm': 66, 'title': '', 'ispublic': 1, 'isfriend': 0, 'isfamily': 0}, {'id': '50982858351', 'owner': '60027857@N00', 'secret': '1f748fae66', 'server': '65535', 'farm': 66, 'title': '', 'ispublic': 1, 'isfriend': 0, 'isfamily': 0}, {'id': '50982118858', 'owner': '60027857@N00', 'secret': 'a7e53f8972', 'server': '65535', 'farm': 66, 'title': '', 'ispublic': 1, 'isfriend': 0, 'isfamily': 0}, {'id': '50982823266', 'owner': '60027857@N00', 'secret': '570be1f7b4', 'server': '65535', 'farm': 66, 'title': '', 'ispublic': 1, 'isfriend': 0, 'isfamily': 0}, {'id': '50980433076', 'owner': '63796798@N00', 'secret': '2c05db5d45', 'server': '65535', 'farm': 66, 'title': 'Ice swimmer', 'ispublic': 1, 'isfriend': 0, 'isfamily': 0}, {'id': '50979724903', 'owner': '63796798@N00', 'secret': '98ac85bb9a', 'server': '65535', 'farm': 66, 'title': 'Aurinkolahti', 'ispublic': 1, 'isfriend': 0, 'isfamily': 0}, {'id': '50980091386', 'owner': '80806509@N04', 'secret': '36b79a4834', 'server': '65535', 'farm': 66, 'title': 'мост А.Невского', 'ispublic': 1, 'isfriend': 0, 'isfamily': 0}, {'id': '50980199297', 'owner': '80806509@N04', 'secret': '2ba6802baa', 'server': '65535', 'farm': 66, 'title': 'рассвет с моста А.Невского', 'ispublic': 1, 'isfriend': 0, 'isfamily': 0}, {'id': '50979386203', 'owner': '80806509@N04', 'secret': 'bb43555fb9', 'server': '65535', 'farm': 66, 'title': 'Свято-Троицкая Александро-Невская Лавра', 'ispublic': 1, 'isfriend': 0, 'isfamily': 0}, {'id': '50980090326', 'owner': '80806509@N04', 'secret': 'a1d89b9242', 'server': '65535', 'farm': 66, 'title': 'Свято-Троицкая Александро-Невская Лавра', 'ispublic': 1, 'isfriend': 0, 'isfamily': 0}, {'id': '50980090046', 'owner': '80806509@N04', 'secret': '9d77381ea7', 'server': '65535', 'farm': 66, 'title': 'Лавра А.Невского', 'ispublic': 1, 'isfriend': 0, 'isfamily': 0}, {'id': '50980080976', 'owner': '80806509@N04', 'secret': 'ec3e4b4725', 'server': '65535', 'farm': 66, 'title': 'Петербург | St Petersburg, Russia', 'ispublic': 1, 'isfriend': 0, 'isfamily': 0}, {'id': '50980080931', 'owner': '80806509@N04', 'secret': '1c0c8a639e', 'server': '65535', 'farm': 66, 'title': 'Петербург | St Petersburg, Russia', 'ispublic': 1, 'isfriend': 0, 'isfamily': 0}, {'id': '50980189022', 'owner': '80806509@N04', 'secret': '545bb79e89', 'server': '65535', 'farm': 66, 'title': 'Петербург | St Petersburg, Russia', 'ispublic': 1, 'isfriend': 0, 'isfamily': 0}, {'id': '50980188997', 'owner': '80806509@N04', 'secret': '66370e730c', 'server': '65535', 'farm': 66, 'title': 'Петербург | St Petersburg, Russia', 'ispublic': 1, 'isfriend': 0, 'isfamily': 0}, {'id': '50979376073', 'owner': '80806509@N04', 'secret': '1527e3411d', 'server': '65535', 'farm': 66, 'title': 'Петербург | St Petersburg, Russia', 'ispublic': 1, 'isfriend': 0, 'isfamily': 0}, {'id': '50978991458', 'owner': '139918007@N05', 'secret': '3339c5c726', 'server': '65535', 'farm': 66, 'title': 'Набережная р. Фонтанка. Троицкий собор', 'ispublic': 1, 'isfriend': 0, 'isfamily': 0}, {'id': '50979094821', 'owner': '50357632@N00', 'secret': '7e56f4f39c', 'server': '65535', 'farm': 66, 'title': 'Kunutersin portti', 'ispublic': 1, 'isfriend': 0, 'isfamily': 0}, {'id': '50977648258', 'owner': '128329347@N04', 'secret': 'd63c2438d4', 'server': '65535', 'farm': 66, 'title': 'Cyanistes caeruleus - Eurasian blue tit', 'ispublic': 1, 'isfriend': 0, 'isfamily': 0}, {'id': '50977566818', 'owner': '11232543@N00', 'secret': 'd400766ec8', 'server': '65535', 'farm': 66, 'title': 'Norrsken', 'ispublic': 1, 'isfriend': 0, 'isfamily': 0}, {'id': '50976845363', 'owner': '60027857@N00', 'secret': '03b6df3513', 'server': '65535', 'farm': 66, 'title': '', 'ispublic': 1, 'isfriend': 0, 'isfamily': 0}, {'id': '50977498921', 'owner': '60027857@N00', 'secret': '14498ec6cb', 'server': '65535', 'farm': 66, 'title': '', 'ispublic': 1, 'isfriend': 0, 'isfamily': 0}, {'id': '50976789083', 'owner': '60027857@N00', 'secret': 'f00166ae4c', 'server': '65535', 'farm': 66, 'title': '', 'ispublic': 1, 'isfriend': 0, 'isfamily': 0}, {'id': '50977576682', 'owner': '60027857@N00', 'secret': 'd92ff2dd56', 'server': '65535', 'farm': 66, 'title': '', 'ispublic': 1, 'isfriend': 0, 'isfamily': 0}, {'id': '50976684828', 'owner': '60027857@N00', 'secret': 'a1080205ce', 'server': '65535', 'farm': 66, 'title': 'Triumph', 'ispublic': 1, 'isfriend': 0, 'isfamily': 0}, {'id': '50976678393', 'owner': '60027857@N00', 'secret': '0c4d632e11', 'server': '65535', 'farm': 66, 'title': 'Alueella liikkuminen kielletty', 'ispublic': 1, 'isfriend': 0, 'isfamily': 0}, {'id': '50977444217', 'owner': '60027857@N00', 'secret': 'e1f2e89a00', 'server': '65535', 'farm': 66, 'title': '', 'ispublic': 1, 'isfriend': 0, 'isfamily': 0}, {'id': '50976531118', 'owner': '95663578@N04', 'secret': '35225a87de', 'server': '65535', 'farm': 66, 'title': 'Marjaniemi beach by winter', 'ispublic': 1, 'isfriend': 0, 'isfamily': 0}, {'id': '50977093216', 'owner': '29779478@N00', 'secret': '24d760679b', 'server': '65535', 'farm': 66, 'title': 'Pellinge visited', 'ispublic': 1, 'isfriend': 0, 'isfamily': 0}, {'id': '50976396753', 'owner': '29779478@N00', 'secret': '48d5f3f426', 'server': '65535', 'farm': 66, 'title': 'Pellinge visited', 'ispublic': 1, 'isfriend': 0, 'isfamily': 0}, {'id': '50977105952', 'owner': '11816489@N05', 'secret': 'e969c4a335', 'server': '65535', 'farm': 66, 'title': 'Snow-clad trees', 'ispublic': 1, 'isfriend': 0, 'isfamily': 0}, {'id': '50977083161', 'owner': '29779478@N00', 'secret': '2c8be33729', 'server': '65535', 'farm': 66, 'title': 'Tirmo', 'ispublic': 1, 'isfriend': 0, 'isfamily': 0}, {'id': '50977082656', 'owner': '29779478@N00', 'secret': 'd68f69c428', 'server': '65535', 'farm': 66, 'title': 'Tirmo', 'ispublic': 1, 'isfriend': 0, 'isfamily': 0}, {'id': '50977082596', 'owner': '29779478@N00', 'secret': '1a74cec6ea', 'server': '65535', 'farm': 66, 'title': 'Tirmo', 'ispublic': 1, 'isfriend': 0, 'isfamily': 0}, {'id': '50976613251', 'owner': '29779478@N00', 'secret': '1a1479c18d', 'server': '65535', 'farm': 66, 'title': 'Pellinge visited', 'ispublic': 1, 'isfriend': 0, 'isfamily': 0}, {'id': '50976692587', 'owner': '18215332@N00', 'secret': '1b6428f231', 'server': '65535', 'farm': 66, 'title': 'Rusty sign shows the way', 'ispublic': 1, 'isfriend': 0, 'isfamily': 0}, {'id': '50976522031', 'owner': '112616946@N08', 'secret': '71d35beb3b', 'server': '65535', 'farm': 66, 'title': 'After Sunset', 'ispublic': 1, 'isfriend': 0, 'isfamily': 0}, {'id': '50976521601', 'owner': '68576352@N08', 'secret': 'f53f9a5e56', 'server': '65535', 'farm': 66, 'title': 'Topi the skier', 'ispublic': 1, 'isfriend': 0, 'isfamily': 0}, {'id': '50975536813', 'owner': '63796798@N00', 'secret': '2544d7ef44', 'server': '65535', 'farm': 66, 'title': 'Arabianranta', 'ispublic': 1, 'isfriend': 0, 'isfamily': 0}, {'id': '50973913548', 'owner': '88748006@N07', 'secret': '5133f25d7e', 'server': '65535', 'farm': 66, 'title': 'Teatro Mariinsky 2', 'ispublic': 1, 'isfriend': 0, 'isfamily': 0}, {'id': '50973873991', 'owner': '75010855@N03', 'secret': 'd94807743e', 'server': '65535', 'farm': 66, 'title': 'Comp_205', 'ispublic': 1, 'isfriend': 0, 'isfamily': 0}, {'id': '50973799652', 'owner': '28839353@N03', 'secret': 'a057c25f9d', 'server': '65535', 'farm': 66, 'title': 'Dreamscape', 'ispublic': 1, 'isfriend': 0, 'isfamily': 0}, {'id': '50973055081', 'owner': '190414320@N06', 'secret': '13bb10056e', 'server': '65535', 'farm': 66, 'title': 'Kiekka (Maavesi) Hydroelectric Powerplant - Kiekan voimalaitos (Maaveden voimalaitos)', 'ispublic': 1, 'isfriend': 0, 'isfamily': 0}, {'id': '50971688338', 'owner': '100496543@N02', 'secret': '3ae5da65c7', 'server': '65535', 'farm': 66, 'title': 'IMG_20210221_155555_332', 'ispublic': 1, 'isfriend': 0, 'isfamily': 0}, {'id': '50971688263', 'owner': '100496543@N02', 'secret': 'd2c963fff9', 'server': '65535', 'farm': 66, 'title': 'IMG_20210222_195812_241', 'ispublic': 1, 'isfriend': 0, 'isfamily': 0}, {'id': '50971928271', 'owner': '128329347@N04', 'secret': '7d4bcc729c', 'server': '65535', 'farm': 66, 'title': 'Sciurus vulgaris - Red squirrel', 'ispublic': 1, 'isfriend': 0, 'isfamily': 0}, {'id': '50969760063', 'owner': '40475503@N03', 'secret': '345187f8a6', 'server': '65535', 'farm': 66, 'title': '20190714_153425', 'ispublic': 1, 'isfriend': 0, 'isfamily': 0}, {'id': '50970459446', 'owner': '40475503@N03', 'secret': '9a475830da', 'server': '65535', 'farm': 66, 'title': '20190714_152525', 'ispublic': 1, 'isfriend': 0, 'isfamily': 0}, {'id': '50970459316', 'owner': '40475503@N03', 'secret': '201195e4da', 'server': '65535', 'farm': 66, 'title': '20190714_141349', 'ispublic': 1, 'isfriend': 0, 'isfamily': 0}, {'id': '50970459171', 'owner': '40475503@N03', 'secret': 'f47412c97c', 'server': '65535', 'farm': 66, 'title': '20190714_142707', 'ispublic': 1, 'isfriend': 0, 'isfamily': 0}, {'id': '50969753343', 'owner': '40475503@N03', 'secret': '73556b447d', 'server': '65535', 'farm': 66, 'title': '20210222_155246', 'ispublic': 1, 'isfriend': 0, 'isfamily': 0}, {'id': '50969752718', 'owner': '40475503@N03', 'secret': '755611a1d8', 'server': '65535', 'farm': 66, 'title': '20210222_155032', 'ispublic': 1, 'isfriend': 0, 'isfamily': 0}, {'id': '50970451831', 'owner': '40475503@N03', 'secret': 'd4b0981b97', 'server': '65535', 'farm': 66, 'title': '20210222_155000', 'ispublic': 1, 'isfriend': 0, 'isfamily': 0}, {'id': '50969751668', 'owner': '40475503@N03', 'secret': 'c8a0b2d258', 'server': '65535', 'farm': 66, 'title': '20210222_154531', 'ispublic': 1, 'isfriend': 0, 'isfamily': 0}, {'id': '50969750868', 'owner': '40475503@N03', 'secret': '03d01e02e7', 'server': '65535', 'farm': 66, 'title': '20210222_154216', 'ispublic': 1, 'isfriend': 0, 'isfamily': 0}, {'id': '50969749278', 'owner': '40475503@N03', 'secret': '1516350531', 'server': '65535', 'farm': 66, 'title': '20210222_153007', 'ispublic': 1, 'isfriend': 0, 'isfamily': 0}, {'id': '50970448701', 'owner': '40475503@N03', 'secret': '074dd47618', 'server': '65535', 'farm': 66, 'title': '20210222_151231', 'ispublic': 1, 'isfriend': 0, 'isfamily': 0}, {'id': '50970372877', 'owner': '44204018@N00', 'secret': '6de97894f0', 'server': '65535', 'farm': 66, 'title': 'IMG_1950', 'ispublic': 1, 'isfriend': 0, 'isfamily': 0}, {'id': '50969565268', 'owner': '44204018@N00', 'secret': 'a23a9e540a', 'server': '65535', 'farm': 66, 'title': 'IMG_1978', 'ispublic': 1, 'isfriend': 0, 'isfamily': 0}, {'id': '50970371832', 'owner': '44204018@N00', 'secret': '965b9443c9', 'server': '65535', 'farm': 66, 'title': 'IMG_1979', 'ispublic': 1, 'isfriend': 0, 'isfamily': 0}, {'id': '50969565033', 'owner': '44204018@N00', 'secret': '85f5de3d7f', 'server': '65535', 'farm': 66, 'title': 'IMG_1985', 'ispublic': 1, 'isfriend': 0, 'isfamily': 0}, {'id': '50970262456', 'owner': '44204018@N00', 'secret': 'a183ee4eea', 'server': '65535', 'farm': 66, 'title': 'IMG_1942', 'ispublic': 1, 'isfriend': 0, 'isfamily': 0}, {'id': '50970369967', 'owner': '44204018@N00', 'secret': '9de596112b', 'server': '65535', 'farm': 66, 'title': 'IMG_1949', 'ispublic': 1, 'isfriend': 0, 'isfamily': 0}, {'id': '50968587268', 'owner': '58323087@N07', 'secret': 'df5326022b', 'server': '65535', 'farm': 66, 'title': 'Kerimäen kirkko', 'ispublic': 1, 'isfriend': 0, 'isfamily': 0}, {'id': '50968562293', 'owner': '58323087@N07', 'secret': 'e2ed9f6076', 'server': '65535', 'farm': 66, 'title': 'Kerimäen kirkon alttari', 'ispublic': 1, 'isfriend': 0, 'isfamily': 0}, {'id': '50969371682', 'owner': '58323087@N07', 'secret': '5d03f5647c', 'server': '65535', 'farm': 66, 'title': 'Kerimäen kirkon alttari', 'ispublic': 1, 'isfriend': 0, 'isfamily': 0}, {'id': '50969371532', 'owner': '58323087@N07', 'secret': '6d276b61d8', 'server': '65535', 'farm': 66, 'title': 'Kerimäen kirkon alttari', 'ispublic': 1, 'isfriend': 0, 'isfamily': 0}, {'id': '50969374037', 'owner': '68576352@N08', 'secret': '7a6c60fb99', 'server': '65535', 'farm': 66, 'title': 'Snowshoeing at Tesoma', 'ispublic': 1, 'isfriend': 0, 'isfamily': 0}, {'id': '50969255856', 'owner': '58323087@N07', 'secret': '9f02e9f4bb', 'server': '65535', 'farm': 66, 'title': 'Kerimäen kirkko', 'ispublic': 1, 'isfriend': 0, 'isfamily': 0}, {'id': '50969255651', 'owner': '58323087@N07', 'secret': '3dde395e14', 'server': '65535', 'farm': 66, 'title': 'Kerimäen kirkko', 'ispublic': 1, 'isfriend': 0, 'isfamily': 0}, {'id': '50969189326', 'owner': '58323087@N07', 'secret': '7fc27ec14d', 'server': '65535', 'farm': 66, 'title': 'Kerimäen kirkon kellotorni', 'ispublic': 1, 'isfriend': 0, 'isfamily': 0}, {'id': '50967690181', 'owner': '66296731@N07', 'secret': 'ab3153a3cd', 'server': '65535', 'farm': 66, 'title': '2008-06-04, Helsinki, Hakaniemi', 'ispublic': 1, 'isfriend': 0, 'isfamily': 0}, {'id': '50967683051', 'owner': '66296731@N07', 'secret': 'f698ff391a', 'server': '65535', 'farm': 66, 'title': '2008-06-04, Helsinki, Hakaniemi', 'ispublic': 1, 'isfriend': 0, 'isfamily': 0}, {'id': '50967784162', 'owner': '66296731@N07', 'secret': '59541576b7', 'server': '65535', 'farm': 66, 'title': '2008-06-04, Helsinki, Töölön Halli', 'ispublic': 1, 'isfriend': 0, 'isfamily': 0}, {'id': '50966961112', 'owner': '66296731@N07', 'secret': '30489f54aa', 'server': '65535', 'farm': 66, 'title': '2008-06-04, Helsinki, Eteläranta', 'ispublic': 1, 'isfriend': 0, 'isfamily': 0}, {'id': '50966712881', 'owner': '68576352@N08', 'secret': 'ca032f57b4', 'server': '65535', 'farm': 66, 'title': 'Raholan Pyrkivä - PeU Basket, Miesten divisioona', 'ispublic': 1, 'isfriend': 0, 'isfamily': 0}, {'id': '50966008023', 'owner': '68576352@N08', 'secret': '22c947975b', 'server': '65535', 'farm': 66, 'title': 'Raholan Pyrkivä - PeU Basket, Miesten divisioona', 'ispublic': 1, 'isfriend': 0, 'isfamily': 0}, {'id': '50966007633', 'owner': '68576352@N08', 'secret': '67bd9d2f34', 'server': '65535', 'farm': 66, 'title': 'Raholan Pyrkivä - PeU Basket, Miesten divisioona', 'ispublic': 1, 'isfriend': 0, 'isfamily': 0}, {'id': '50966712231', 'owner': '68576352@N08', 'secret': '120c6b0f35', 'server': '65535', 'farm': 66, 'title': 'Raholan Pyrkivä - PeU Basket, Miesten divisioona', 'ispublic': 1, 'isfriend': 0, 'isfamily': 0}, {'id': '50966711896', 'owner': '68576352@N08', 'secret': '52a40ac128', 'server': '65535', 'farm': 66, 'title': 'Raholan Pyrkivä - PeU Basket, Miesten divisioona', 'ispublic': 1, 'isfriend': 0, 'isfamily': 0}, {'id': '50966007033', 'owner': '68576352@N08', 'secret': 'e2e2392661', 'server': '65535', 'farm': 66, 'title': 'Raholan Pyrkivä - PeU Basket, Miesten divisioona', 'ispublic': 1, 'isfriend': 0, 'isfamily': 0}, {'id': '50965089143', 'owner': '100978997@N07', 'secret': 'e92f9fcba8', 'server': '65535', 'farm': 66, 'title': 'Iisalmi', 'ispublic': 1, 'isfriend': 0, 'isfamily': 0}, {'id': '50964831973', 'owner': '75010855@N03', 'secret': '8c00f403d0', 'server': '65535', 'farm': 66, 'title': 'SkB_230', 'ispublic': 1, 'isfriend': 0, 'isfamily': 0}, {'id': '50965646457', 'owner': '75010855@N03', 'secret': 'dc90ab0be1', 'server': '65535', 'farm': 66, 'title': 'SkB_230', 'ispublic': 1, 'isfriend': 0, 'isfamily': 0}, {'id': '50964919286', 'owner': '192195318@N05', 'secret': '37755f8032', 'server': '65535', 'farm': 66, 'title': 'saint petersbourg', 'ispublic': 1, 'isfriend': 0, 'isfamily': 0}, {'id': '50963070128', 'owner': '58323087@N07', 'secret': 'ce5e51ac4f', 'server': '65535', 'farm': 66, 'title': 'Temppeliaukion kirkko, Helsinki', 'ispublic': 1, 'isfriend': 0, 'isfamily': 0}, {'id': '50963069538', 'owner': '58323087@N07', 'secret': '0534094e0b', 'server': '65535', 'farm': 66, 'title': 'Temppeliaukion kirkko, Helsinki', 'ispublic': 1, 'isfriend': 0, 'isfamily': 0}, {'id': '50963779826', 'owner': '58323087@N07', 'secret': '7754d2592d', 'server': '65535', 'farm': 66, 'title': 'Temppeliaukion kirkko, Helsinki', 'ispublic': 1, 'isfriend': 0, 'isfamily': 0}, {'id': '50963605531', 'owner': '61588394@N04', 'secret': 'f47b6d9bab', 'server': '65535', 'farm': 66, 'title': 'TEM7A (ТЭМ7А-079) heavy shunting locomotive returns to The Sea Port from the Avtovo freight station in Saint Petersburg', 'ispublic': 1, 'isfriend': 0, 'isfamily': 0}, {'id': '50962716087', 'owner': '50357632@N00', 'secret': 'aa829d9340', 'server': '65535', 'farm': 66, 'title': 'Walk, walk, walk', 'ispublic': 1, 'isfriend': 0, 'isfamily': 0}, {'id': '50961502253', 'owner': '29779478@N00', 'secret': 'ae0240a45b', 'server': '65535', 'farm': 66, 'title': 'Out and about', 'ispublic': 1, 'isfriend': 0, 'isfamily': 0}, {'id': '50962224487', 'owner': '186924069@N06', 'secret': '009b7cd222', 'server': '65535', 'farm': 66, 'title': 'Fresh start', 'ispublic': 1, 'isfriend': 0, 'isfamily': 0}, {'id': '50961768271', 'owner': '71287079@N05', 'secret': '46eeec3188', 'server': '65535', 'farm': 66, 'title': 'Iitin kirkko', 'ispublic': 1, 'isfriend': 0, 'isfamily': 0}, {'id': '50960545511', 'owner': '8920421@N08', 'secret': '55c8091564', 'server': '65535', 'farm': 66, 'title': 'Om het hoekje in Helsinki', 'ispublic': 1, 'isfriend': 0, 'isfamily': 0}, {'id': '50960536141', 'owner': '70192309@N03', 'secret': '5ce87d97c0', 'server': '65535', 'farm': 66, 'title': 'Lightroom-839', 'ispublic': 1, 'isfriend': 0, 'isfamily': 0}, {'id': '50960436191', 'owner': '60027857@N00', 'secret': '1ebbe000f6', 'server': '65535', 'farm': 66, 'title': 'Mustang', 'ispublic': 1, 'isfriend': 0, 'isfamily': 0}, {'id': '50959645393', 'owner': '60027857@N00', 'secret': '6e27ecf7a1', 'server': '65535', 'farm': 66, 'title': '', 'ispublic': 1, 'isfriend': 0, 'isfamily': 0}, {'id': '50959607383', 'owner': '68576352@N08', 'secret': '37487f5842', 'server': '65535', 'farm': 66, 'title': 'Raholan Pyrkivä - Hyvinkään Ponteva, Miesten Divisioona B', 'ispublic': 1, 'isfriend': 0, 'isfamily': 0}, {'id': '50959607163', 'owner': '68576352@N08', 'secret': '1094321872', 'server': '65535', 'farm': 66, 'title': 'Raholan Pyrkivä - Hyvinkään Ponteva, Miesten Divisioona B', 'ispublic': 1, 'isfriend': 0, 'isfamily': 0}, {'id': '50960306761', 'owner': '68576352@N08', 'secret': '16ce352740', 'server': '65535', 'farm': 66, 'title': 'Raholan Pyrkivä - Hyvinkään Ponteva, Miesten Divisioona B', 'ispublic': 1, 'isfriend': 0, 'isfamily': 0}, {'id': '50960409882', 'owner': '68576352@N08', 'secret': '3b383cb485', 'server': '65535', 'farm': 66, 'title': 'Raholan Pyrkivä - Hyvinkään Ponteva, Miesten Divisioona B', 'ispublic': 1, 'isfriend': 0, 'isfamily': 0}, {'id': '50959694076', 'owner': '192181382@N05', 'secret': '904327ed4b', 'server': '65535', 'farm': 66, 'title': 'DJI_0159', 'ispublic': 1, 'isfriend': 0, 'isfamily': 0}, {'id': '50959689636', 'owner': '192181382@N05', 'secret': 'aa68139623', 'server': '65535', 'farm': 66, 'title': 'DJI_0769', 'ispublic': 1, 'isfriend': 0, 'isfamily': 0}, {'id': '50958988873', 'owner': '192181382@N05', 'secret': '60174bb55e', 'server': '65535', 'farm': 66, 'title': 'DJI_0987', 'ispublic': 1, 'isfriend': 0, 'isfamily': 0}, {'id': '50959688721', 'owner': '192181382@N05', 'secret': 'f825fcfd86', 'server': '65535', 'farm': 66, 'title': 'DJI_0990', 'ispublic': 1, 'isfriend': 0, 'isfamily': 0}, {'id': '50959649702', 'owner': '112616946@N08', 'secret': 'f82e63ae2c', 'server': '65535', 'farm': 66, 'title': 'The Crossing', 'ispublic': 1, 'isfriend': 0, 'isfamily': 0}, {'id': '50959170692', 'owner': '63796798@N00', 'secret': 'ac058296a9', 'server': '65535', 'farm': 66, 'title': 'Ice castle', 'ispublic': 1, 'isfriend': 0, 'isfamily': 0}, {'id': '50958842901', 'owner': '56447723@N08', 'secret': '4298792352', 'server': '65535', 'farm': 66, 'title': 'Snowing on the River', 'ispublic': 1, 'isfriend': 0, 'isfamily': 0}, {'id': '50957141111', 'owner': '23023080@N02', 'secret': 'f87e98d02f', 'server': '65535', 'farm': 66, 'title': 'Wings - siivet, 18.2.2021', 'ispublic': 1, 'isfriend': 0, 'isfamily': 0}, {'id': '50956798707', 'owner': '63796798@N00', 'secret': 'ae98f5d70d', 'server': '65535', 'farm': 66, 'title': 'Diesel removes snow', 'ispublic': 1, 'isfriend': 0, 'isfamily': 0}, {'id': '50956514976', 'owner': '70192309@N03', 'secret': 'e0f86e904f', 'server': '65535', 'farm': 66, 'title': 'Lightroom-836', 'ispublic': 1, 'isfriend': 0, 'isfamily': 0}, {'id': '50956482836', 'owner': '77524869@N03', 'secret': '9e270786c8', 'server': '65535', 'farm': 66, 'title': 'Hommissa', 'ispublic': 1, 'isfriend': 0, 'isfamily': 0}, {'id': '50956350392', 'owner': '163584640@N04', 'secret': 'd6dda68b0c', 'server': '65535', 'farm': 66, 'title': '2020 - Спортивный кластер СПОТПОДМОСТОМ СПб | Extreme cluster under the bridge in St.Petersburg', 'ispublic': 1, 'isfriend': 0, 'isfamily': 0}, {'id': '50956246836', 'owner': '163584640@N04', 'secret': '0dc934ac68', 'server': '65535', 'farm': 66, 'title': '2020 - Спортивный кластер СПОТПОДМОСТОМ СПб | Extreme cluster under the bridge in St.Petersburg', 'ispublic': 1, 'isfriend': 0, 'isfamily': 0}, {'id': '50956317577', 'owner': '163584640@N04', 'secret': 'ff10d03fc4', 'server': '65535', 'farm': 66, 'title': '2020 - Бетонный пул в Вартемягах | Concrete bowl in Vartemyagi', 'ispublic': 1, 'isfriend': 0, 'isfamily': 0}, {'id': '50956283467', 'owner': '163584640@N04', 'secret': '32a2cfcb45', 'server': '65535', 'farm': 66, 'title': '2020 - Скейт парк на ул.Передовиков СПб | Plywood skatepark in St.Petersburg', 'ispublic': 1, 'isfriend': 0, 'isfamily': 0}, {'id': '50955413788', 'owner': '163584640@N04', 'secret': 'f013b01095', 'server': '65535', 'farm': 66, 'title': \"2020 - Каркасный скейт парк в Кузьмолово | Plywood skatepark in Kuz'molovo\", 'ispublic': 1, 'isfriend': 0, 'isfamily': 0}, {'id': '50956090791', 'owner': '163584640@N04', 'secret': '36090e9bf5', 'server': '65535', 'farm': 66, 'title': '2020 - Бетонный скейтпарк Новое Девяткино | Concrete skatepark in New Devyatkino, St.Petersburg', 'ispublic': 1, 'isfriend': 0, 'isfamily': 0}, {'id': '50955023738', 'owner': '192193476@N04', 'secret': '7fc78c1d52', 'server': '65535', 'farm': 66, 'title': '', 'ispublic': 1, 'isfriend': 0, 'isfamily': 0}, {'id': '50955023243', 'owner': '192193476@N04', 'secret': 'b7897a71aa', 'server': '65535', 'farm': 66, 'title': '', 'ispublic': 1, 'isfriend': 0, 'isfamily': 0}, {'id': '50954942113', 'owner': '58323087@N07', 'secret': '11ba674be7', 'server': '65535', 'farm': 66, 'title': 'Suomenlinnan lautta, Helsinki', 'ispublic': 1, 'isfriend': 0, 'isfamily': 0}, {'id': '50955750992', 'owner': '58323087@N07', 'secret': '002c95f71a', 'server': '65535', 'farm': 66, 'title': 'Suomenlinnan lautta, Helsinki', 'ispublic': 1, 'isfriend': 0, 'isfamily': 0}, {'id': '50954448853', 'owner': '30830405@N07', 'secret': '68fa4e2041', 'server': '65535', 'farm': 66, 'title': \"Wednesday's News (365/48, Feb. 18, 2021)\", 'ispublic': 1, 'isfriend': 0, 'isfamily': 0}, {'id': '50954279712', 'owner': '58323087@N07', 'secret': '1526e3f3f7', 'server': '65535', 'farm': 66, 'title': 'Suomenlinnan kirkko, Helsinki', 'ispublic': 1, 'isfriend': 0, 'isfamily': 0}, {'id': '50954176841', 'owner': '58323087@N07', 'secret': '354b3452eb', 'server': '65535', 'farm': 66, 'title': 'Suomenlinnan kirkon piha, Helsinki', 'ispublic': 1, 'isfriend': 0, 'isfamily': 0}, {'id': '50953464238', 'owner': '58323087@N07', 'secret': '3c43532641', 'server': '65535', 'farm': 66, 'title': 'Suomenlinna, Helsinki', 'ispublic': 1, 'isfriend': 0, 'isfamily': 0}, {'id': '50953848007', 'owner': '183019497@N05', 'secret': 'e6f99ec12e', 'server': '65535', 'farm': 66, 'title': 'Arctic Sunset', 'ispublic': 1, 'isfriend': 0, 'isfamily': 0}, {'id': '50952867673', 'owner': '75010855@N03', 'secret': '5524f33401', 'server': '65535', 'farm': 66, 'title': 'S_13', 'ispublic': 1, 'isfriend': 0, 'isfamily': 0}, {'id': '50952867683', 'owner': '75010855@N03', 'secret': '18dfa9978b', 'server': '65535', 'farm': 66, 'title': 'S_13', 'ispublic': 1, 'isfriend': 0, 'isfamily': 0}, {'id': '50953425046', 'owner': '59828946@N06', 'secret': '458aca2bdb', 'server': '65535', 'farm': 66, 'title': 'lumikenkäily Tahkoo helmikuu 2021', 'ispublic': 1, 'isfriend': 0, 'isfamily': 0}, {'id': '50952044868', 'owner': '58323087@N07', 'secret': '3a454a0bbb', 'server': '65535', 'farm': 66, 'title': 'Suomenlinna, Helsinki', 'ispublic': 1, 'isfriend': 0, 'isfamily': 0}, {'id': '50952525142', 'owner': '49428017@N05', 'secret': '42f888db10', 'server': '65535', 'farm': 66, 'title': 'Biltohytta - utleiehytte i Nordreisa', 'ispublic': 1, 'isfriend': 0, 'isfamily': 0}, {'id': '50951727218', 'owner': '49428017@N05', 'secret': '6ee3b2681f', 'server': '65535', 'farm': 66, 'title': 'Biltohytta - utleiehytte i Nordreisa', 'ispublic': 1, 'isfriend': 0, 'isfamily': 0}, {'id': '50952524927', 'owner': '49428017@N05', 'secret': '1131541c4b', 'server': '65535', 'farm': 66, 'title': 'Biltohytta - utleiehytte i Nordreisa', 'ispublic': 1, 'isfriend': 0, 'isfamily': 0}, {'id': '50952376632', 'owner': '63796798@N00', 'secret': '690b476534', 'server': '65535', 'farm': 66, 'title': 'Meripaviljonki', 'ispublic': 1, 'isfriend': 0, 'isfamily': 0}, {'id': '50949398778', 'owner': '184629964@N06', 'secret': '441a8b72e3', 'server': '65535', 'farm': 66, 'title': 'Ploki Kuusamo 1', 'ispublic': 1, 'isfriend': 0, 'isfamily': 0}, {'id': '50949071883', 'owner': '40156726@N00', 'secret': 'e08b6b3317', 'server': '65535', 'farm': 66, 'title': '2021-02-16_04-01-30', 'ispublic': 1, 'isfriend': 0, 'isfamily': 0}, {'id': '50949697221', 'owner': '68576352@N08', 'secret': 'a408bc783c', 'server': '65535', 'farm': 66, 'title': 'Snowshoeing at Lake Pyhäjärvi', 'ispublic': 1, 'isfriend': 0, 'isfamily': 0}, {'id': '50949791442', 'owner': '68576352@N08', 'secret': 'd2a7c87381', 'server': '65535', 'farm': 66, 'title': 'Snowshoeing at Lake Pyhäjärvi', 'ispublic': 1, 'isfriend': 0, 'isfamily': 0}, {'id': '50948817508', 'owner': '68576352@N08', 'secret': 'de3183b4c7', 'server': '65535', 'farm': 66, 'title': 'Snowshoeing at Lake Pyhäjärvi', 'ispublic': 1, 'isfriend': 0, 'isfamily': 0}, {'id': '50948815768', 'owner': '68576352@N08', 'secret': '9854495430', 'server': '65535', 'farm': 66, 'title': 'Snowshoeing at Lake Pyhäjärvi', 'ispublic': 1, 'isfriend': 0, 'isfamily': 0}, {'id': '50946946808', 'owner': '81466295@N04', 'secret': 'a8d86bdf6c', 'server': '65535', 'farm': 66, 'title': '2021-02-15_11-27-41', 'ispublic': 1, 'isfriend': 0, 'isfamily': 0}, {'id': '50947422531', 'owner': '100496543@N02', 'secret': '7e70cafa2b', 'server': '65535', 'farm': 66, 'title': 'IMG_20210215_000806-02-01', 'ispublic': 1, 'isfriend': 0, 'isfamily': 0}, {'id': '50946291143', 'owner': '58323087@N07', 'secret': '452396472a', 'server': '65535', 'farm': 66, 'title': 'Varistaipaleen kanava, Heinävesi', 'ispublic': 1, 'isfriend': 0, 'isfamily': 0}, {'id': '50946859671', 'owner': '70192309@N03', 'secret': 'acf940f051', 'server': '65535', 'farm': 66, 'title': 'Lightroom-831', 'ispublic': 1, 'isfriend': 0, 'isfamily': 0}, {'id': '50946724756', 'owner': '164573835@N05', 'secret': '47c60e1398', 'server': '65535', 'farm': 66, 'title': 'DSC09539', 'ispublic': 1, 'isfriend': 0, 'isfamily': 0}, {'id': '50944800168', 'owner': '16391511@N00', 'secret': '4a093e7ca8', 'server': '65535', 'farm': 66, 'title': 'Footpath And Fallen Leaves', 'ispublic': 1, 'isfriend': 0, 'isfamily': 0}, {'id': '50943957116', 'owner': '7274581@N08', 'secret': '030d3fa6ef', 'server': '65535', 'farm': 66, 'title': '2021-02-14-4409', 'ispublic': 1, 'isfriend': 0, 'isfamily': 0}, {'id': '50943956616', 'owner': '7274581@N08', 'secret': 'b450d44348', 'server': '65535', 'farm': 66, 'title': '2021-02-14-4411', 'ispublic': 1, 'isfriend': 0, 'isfamily': 0}, {'id': '50943956206', 'owner': '7274581@N08', 'secret': '5f87d9c716', 'server': '65535', 'farm': 66, 'title': '2021-02-14-4413', 'ispublic': 1, 'isfriend': 0, 'isfamily': 0}, {'id': '50944054752', 'owner': '7274581@N08', 'secret': 'd1e8785bbf', 'server': '65535', 'farm': 66, 'title': '2021-02-14-4417', 'ispublic': 1, 'isfriend': 0, 'isfamily': 0}, {'id': '50943954976', 'owner': '7274581@N08', 'secret': 'c685b09c8d', 'server': '65535', 'farm': 66, 'title': '2021-02-14-4418', 'ispublic': 1, 'isfriend': 0, 'isfamily': 0}, {'id': '50943954351', 'owner': '7274581@N08', 'secret': '3a625f60da', 'server': '65535', 'farm': 66, 'title': '2021-02-14-4420', 'ispublic': 1, 'isfriend': 0, 'isfamily': 0}, {'id': '50943623682', 'owner': '68576352@N08', 'secret': 'b461b2b28c', 'server': '65535', 'farm': 66, 'title': 'RaPy - Westside, Miesten Divisioona B', 'ispublic': 1, 'isfriend': 0, 'isfamily': 0}, {'id': '50943523946', 'owner': '68576352@N08', 'secret': 'cc829e2d10', 'server': '65535', 'farm': 66, 'title': 'RaPy - Westside, Miesten Divisioona B', 'ispublic': 1, 'isfriend': 0, 'isfamily': 0}, {'id': '50943623287', 'owner': '68576352@N08', 'secret': 'dc66e3d238', 'server': '65535', 'farm': 66, 'title': 'RaPy - Westside, Miesten Divisioona B', 'ispublic': 1, 'isfriend': 0, 'isfamily': 0}, {'id': '50942824173', 'owner': '68576352@N08', 'secret': '886c712eea', 'server': '65535', 'farm': 66, 'title': 'RaPy - Westside, Miesten Divisioona B', 'ispublic': 1, 'isfriend': 0, 'isfamily': 0}, {'id': '50943523511', 'owner': '68576352@N08', 'secret': '4e663a62d2', 'server': '65535', 'farm': 66, 'title': 'RaPy - Westside, Miesten Divisioona B', 'ispublic': 1, 'isfriend': 0, 'isfamily': 0}, {'id': '50943622777', 'owner': '68576352@N08', 'secret': '53dcbdcaf7', 'server': '65535', 'farm': 66, 'title': 'RaPy - Westside, Miesten Divisioona B', 'ispublic': 1, 'isfriend': 0, 'isfamily': 0}, {'id': '50943621897', 'owner': '68576352@N08', 'secret': 'e84996e8d2', 'server': '65535', 'farm': 66, 'title': 'RaPy - Westside, Miesten Divisioona B', 'ispublic': 1, 'isfriend': 0, 'isfamily': 0}, {'id': '50943522476', 'owner': '68576352@N08', 'secret': '15bc0d610a', 'server': '65535', 'farm': 66, 'title': 'RaPy - Westside, Miesten Divisioona B', 'ispublic': 1, 'isfriend': 0, 'isfamily': 0}, {'id': '50943522376', 'owner': '68576352@N08', 'secret': '5664005cf3', 'server': '65535', 'farm': 66, 'title': 'RaPy - Westside, Miesten Divisioona B', 'ispublic': 1, 'isfriend': 0, 'isfamily': 0}, {'id': '50969188951', 'owner': '58323087@N07', 'secret': 'dd9daef5b0', 'server': '65535', 'farm': 66, 'title': 'Kerimäen kirkon kellotorni', 'ispublic': 1, 'isfriend': 0, 'isfamily': 0}, {'id': '50956391257', 'owner': '163584640@N04', 'secret': '2027c88f07', 'server': '65535', 'farm': 66, 'title': '2020 - Бетонный скейт парк под мостом Бетанкура | Skatepark under Betankur bridge in St.Petersburg', 'ispublic': 1, 'isfriend': 0, 'isfamily': 0}, {'id': '50956391167', 'owner': '163584640@N04', 'secret': '2c119b0854', 'server': '65535', 'farm': 66, 'title': '2020 - Бетонный скейт парк под мостом Бетанкура | Skatepark under Betankur bridge in St.Petersburg', 'ispublic': 1, 'isfriend': 0, 'isfamily': 0}]}, 'stat': 'ok'}\n",
      "{'photo': {'id': '50991982323', 'location': {'latitude': '60.191519', 'longitude': '24.973572', 'accuracy': '16', 'context': '0', 'locality': {'_content': 'Helsinki'}, 'county': {'_content': 'Helsinki'}, 'region': {'_content': 'Newland'}, 'country': {'_content': 'Finland'}, 'neighbourhood': {'_content': 'Hermanni'}}}, 'stat': 'ok'}\n",
      "Helsinki\n"
     ]
    }
   ],
   "source": [
    "flickr = flickrapi.FlickrAPI(api_key, api_secret, format='json')\n",
    "photos = flickr.photos.search(per_page='250', bbox='20.410, 59.800, 30.920, 69.910', has_geo=1)\n",
    "parsed = json.loads(photos.decode('utf-8'))\n",
    "\n",
    "print(parsed)\n",
    "\n",
    "id = parsed['photos']['photo'][0]['id']\n",
    "geo = flickr.do_flickr_call('flickr.photos.geo.getLocation', photo_id=id)\n",
    "geo_parsed = json.loads(geo.decode('utf-8'))\n",
    "print(geo_parsed)\n",
    "if 'locality' in geo_parsed['photo']['location']:\n",
    "    print(geo_parsed['photo']['location']['locality']['_content'])\n",
    "else:\n",
    "    print('Unknown')\n"
   ]
  },
  {
   "cell_type": "code",
   "execution_count": 10,
   "id": "happy-thumbnail",
   "metadata": {},
   "outputs": [
    {
     "name": "stderr",
     "output_type": "stream",
     "text": [
      "\r",
      "  0%|                                                                                                                                                                                                                                                | 0/1 [00:00<?, ?it/s]"
     ]
    },
    {
     "name": "stdout",
     "output_type": "stream",
     "text": [
      "20.41, 59.8, 22.91, 61.485\n"
     ]
    },
    {
     "name": "stderr",
     "output_type": "stream",
     "text": [
      "100%|████████████████████████████████████████████████████████████████████████████████████████████████████████████████████████████████████████████████████████████████████████████████████████████████████████████████████████████████████████| 1/1 [00:00<00:00,  2.24it/s]\n",
      "  0%|                                                                                                                                                                                                                                                | 0/1 [00:00<?, ?it/s]"
     ]
    },
    {
     "name": "stdout",
     "output_type": "stream",
     "text": [
      "22.91, 59.8, 25.41, 61.485\n"
     ]
    },
    {
     "name": "stderr",
     "output_type": "stream",
     "text": [
      "100%|████████████████████████████████████████████████████████████████████████████████████████████████████████████████████████████████████████████████████████████████████████████████████████████████████████████████████████████████████████| 1/1 [00:00<00:00,  2.24it/s]\n",
      "  0%|                                                                                                                                                                                                                                                | 0/1 [00:00<?, ?it/s]"
     ]
    },
    {
     "name": "stdout",
     "output_type": "stream",
     "text": [
      "20.41, 61.485, 22.91, 63.17\n"
     ]
    },
    {
     "name": "stderr",
     "output_type": "stream",
     "text": [
      "100%|████████████████████████████████████████████████████████████████████████████████████████████████████████████████████████████████████████████████████████████████████████████████████████████████████████████████████████████████████████| 1/1 [00:00<00:00,  2.36it/s]\n",
      "  0%|                                                                                                                                                                                                                                                | 0/1 [00:00<?, ?it/s]"
     ]
    },
    {
     "name": "stdout",
     "output_type": "stream",
     "text": [
      "22.91, 61.485, 25.41, 63.17\n"
     ]
    },
    {
     "name": "stderr",
     "output_type": "stream",
     "text": [
      "100%|████████████████████████████████████████████████████████████████████████████████████████████████████████████████████████████████████████████████████████████████████████████████████████████████████████████████████████████████████████| 1/1 [00:00<00:00,  3.00it/s]\n",
      "  0%|                                                                                                                                                                                                                                                | 0/1 [00:00<?, ?it/s]"
     ]
    },
    {
     "name": "stdout",
     "output_type": "stream",
     "text": [
      "20.41, 63.17, 22.91, 64.855\n"
     ]
    },
    {
     "name": "stderr",
     "output_type": "stream",
     "text": [
      "100%|████████████████████████████████████████████████████████████████████████████████████████████████████████████████████████████████████████████████████████████████████████████████████████████████████████████████████████████████████████| 1/1 [00:00<00:00,  3.12it/s]\n",
      "  0%|                                                                                                                                                                                                                                                | 0/1 [00:00<?, ?it/s]"
     ]
    },
    {
     "name": "stdout",
     "output_type": "stream",
     "text": [
      "22.91, 63.17, 25.41, 64.855\n"
     ]
    },
    {
     "name": "stderr",
     "output_type": "stream",
     "text": [
      "100%|████████████████████████████████████████████████████████████████████████████████████████████████████████████████████████████████████████████████████████████████████████████████████████████████████████████████████████████████████████| 1/1 [00:00<00:00,  2.08it/s]\n",
      "  0%|                                                                                                                                                                                                                                                | 0/1 [00:00<?, ?it/s]"
     ]
    },
    {
     "name": "stdout",
     "output_type": "stream",
     "text": [
      "20.41, 64.855, 22.91, 66.54\n"
     ]
    },
    {
     "name": "stderr",
     "output_type": "stream",
     "text": [
      "100%|████████████████████████████████████████████████████████████████████████████████████████████████████████████████████████████████████████████████████████████████████████████████████████████████████████████████████████████████████████| 1/1 [00:00<00:00,  1.93it/s]\n",
      "  0%|                                                                                                                                                                                                                                                | 0/1 [00:00<?, ?it/s]"
     ]
    },
    {
     "name": "stdout",
     "output_type": "stream",
     "text": [
      "22.91, 64.855, 25.41, 66.54\n"
     ]
    },
    {
     "name": "stderr",
     "output_type": "stream",
     "text": [
      "100%|████████████████████████████████████████████████████████████████████████████████████████████████████████████████████████████████████████████████████████████████████████████████████████████████████████████████████████████████████████| 1/1 [00:00<00:00,  1.28it/s]\n",
      "  0%|                                                                                                                                                                                                                                                | 0/1 [00:00<?, ?it/s]"
     ]
    },
    {
     "name": "stdout",
     "output_type": "stream",
     "text": [
      "20.41, 66.54, 22.91, 68.22500000000001\n"
     ]
    },
    {
     "name": "stderr",
     "output_type": "stream",
     "text": [
      "100%|████████████████████████████████████████████████████████████████████████████████████████████████████████████████████████████████████████████████████████████████████████████████████████████████████████████████████████████████████████| 1/1 [00:00<00:00,  2.97it/s]\n",
      "  0%|                                                                                                                                                                                                                                                | 0/1 [00:00<?, ?it/s]"
     ]
    },
    {
     "name": "stdout",
     "output_type": "stream",
     "text": [
      "22.91, 66.54, 25.41, 68.22500000000001\n"
     ]
    },
    {
     "name": "stderr",
     "output_type": "stream",
     "text": [
      "100%|████████████████████████████████████████████████████████████████████████████████████████████████████████████████████████████████████████████████████████████████████████████████████████████████████████████████████████████████████████| 1/1 [00:00<00:00,  2.53it/s]\n",
      "  0%|                                                                                                                                                                                                                                                | 0/1 [00:00<?, ?it/s]"
     ]
    },
    {
     "name": "stdout",
     "output_type": "stream",
     "text": [
      "20.41, 68.22500000000001, 22.91, 69.91\n"
     ]
    },
    {
     "name": "stderr",
     "output_type": "stream",
     "text": [
      "100%|████████████████████████████████████████████████████████████████████████████████████████████████████████████████████████████████████████████████████████████████████████████████████████████████████████████████████████████████████████| 1/1 [00:00<00:00,  2.47it/s]\n",
      "  0%|                                                                                                                                                                                                                                                | 0/1 [00:00<?, ?it/s]"
     ]
    },
    {
     "name": "stdout",
     "output_type": "stream",
     "text": [
      "22.91, 68.22500000000001, 25.41, 69.91\n"
     ]
    },
    {
     "name": "stderr",
     "output_type": "stream",
     "text": [
      "100%|████████████████████████████████████████████████████████████████████████████████████████████████████████████████████████████████████████████████████████████████████████████████████████████████████████████████████████████████████████| 1/1 [00:00<00:00,  2.26it/s]\n"
     ]
    }
   ],
   "source": [
    "photos_set = []\n",
    "for b in tqdm(bboxes:\n",
    "    # Let's count the pages!\n",
    "    bbox = '{}, {}, {}, {}'.format(b[0], b[1], b[2], b[3])\n",
    "    res = flickr.photos.search(per_page='250', bbox=bbox, has_geo=1)\n",
    "    parsed = json.loads(res.decode('utf-8'))\n",
    "    pages = int(parsed['photos']['pages'])\n",
    "    print(bbox)\n",
    "    for page in tqdm(range(1, 2)):\n",
    "        res = flickr.photos.search(page=page, per_page='250', bbox=bbox, has_geo=1)\n",
    "        parsed = json.loads(res.decode('utf-8'))\n",
    "        for p in parsed['photos']['photo']:\n",
    "            photos_set.append(p)\n"
   ]
  },
  {
   "cell_type": "code",
   "execution_count": 11,
   "id": "equal-hybrid",
   "metadata": {},
   "outputs": [
    {
     "data": {
      "text/plain": [
       "2763"
      ]
     },
     "execution_count": 11,
     "metadata": {},
     "output_type": "execute_result"
    }
   ],
   "source": [
    "len(photos_set)"
   ]
  },
  {
   "cell_type": "code",
   "execution_count": 12,
   "id": "northern-wayne",
   "metadata": {},
   "outputs": [
    {
     "data": {
      "text/plain": [
       "{'id': '50988488177',\n",
       " 'owner': '41505253@N00',\n",
       " 'secret': '009ab112e5',\n",
       " 'server': '65535',\n",
       " 'farm': 66,\n",
       " 'title': 'Late winter 2020-21',\n",
       " 'ispublic': 1,\n",
       " 'isfriend': 0,\n",
       " 'isfamily': 0}"
      ]
     },
     "execution_count": 12,
     "metadata": {},
     "output_type": "execute_result"
    }
   ],
   "source": [
    "photos_set[0]"
   ]
  },
  {
   "cell_type": "code",
   "execution_count": 56,
   "id": "lovely-garlic",
   "metadata": {},
   "outputs": [
    {
     "name": "stderr",
     "output_type": "stream",
     "text": [
      "100%|██████████████████████████████████████████████████████████████████████████████████████████████████████████████████████████████████████████████████████████████████████████████████████████████████████████████████████████████████| 2548/2548 [09:09<00:00,  4.64it/s]\n"
     ]
    }
   ],
   "source": [
    "# photo_id, lat, lon, name, locality, neighbourhood\n",
    "photo_ids = []\n",
    "lats = []\n",
    "longs = []\n",
    "names = []\n",
    "localities = []\n",
    "neighbourhoods = []\n",
    "regions = []\n",
    "for p in tqdm(photos_set):\n",
    "    photo_id = p['id']\n",
    "    geo = flickr.do_flickr_call('flickr.photos.geo.getLocation', photo_id=photo_id)\n",
    "    parsed = json.loads(geo.decode('utf-8'))\n",
    "    ## construct arrays of data\n",
    "    photo_ids.append(photo_id)\n",
    "    names.append(p['title'])\n",
    "    lats.append(parsed['photo']['location']['latitude'])\n",
    "    longs.append(parsed['photo']['location']['longitude'])\n",
    "    neighbourhoods.append(parsed['photo']['location']['neighbourhood']['_content'])\n",
    "    if 'locality' in parsed['photo']['location']:\n",
    "        localities.append(parsed['photo']['location']['locality']['_content'])\n",
    "    else:\n",
    "        localities.append('Unknown')\n",
    "    if 'region' in parsed['photo']['location']:\n",
    "        regions.append(parsed['photo']['location']['region']['_content'])\n",
    "    else:\n",
    "        regions.append('Unknown')"
   ]
  },
  {
   "cell_type": "markdown",
   "id": "identical-belly",
   "metadata": {},
   "source": [
    "## Data collection strategy:\n",
    "We collect geographical information on all pictures taken in Finland inside the BBOX 20.410, 59.800, 30.920, 69.910.\n",
    "Then, we test various clusterization algorithms to create ~500 nodes where each node represents a location.\n",
    "For each location we can find ot the number of pictures taken, the most common names and tags. \n",
    "The edge is represented by distance calculated with Vincenty formula.\n",
    "UPD We look into whole Europe (bbox is -25.31, 35.17, 40.96, 71.33)"
   ]
  },
  {
   "cell_type": "code",
   "execution_count": 58,
   "id": "usual-tsunami",
   "metadata": {},
   "outputs": [],
   "source": [
    "df = pd.DataFrame({'id': photo_ids,\n",
    "                  'name': names,\n",
    "                  'lat': lats,\n",
    "                  'lon': longs,\n",
    "                  'locality': localities,\n",
    "                  'region': regions,\n",
    "                  'neighbourhood': neighbourhoods})"
   ]
  },
  {
   "cell_type": "code",
   "execution_count": 59,
   "id": "documented-israel",
   "metadata": {},
   "outputs": [],
   "source": [
    "df.to_csv('photoset36-48.csv', index=False)"
   ]
  },
  {
   "cell_type": "code",
   "execution_count": 60,
   "id": "extensive-advisory",
   "metadata": {},
   "outputs": [],
   "source": [
    "df2_12 = pd.read_csv('photoset2-12.csv')\n",
    "\n",
    "df12_24 = pd.read_csv('photoset12-24.csv')\n",
    "\n",
    "df24_36 = pd.read_csv('photoset24-36.csv')\n",
    "\n",
    "df36_48 = pd.read_csv('photoset36-48.csv')\n",
    "\n",
    "df = df2_12.append(df12_24).append(df24_36).append(df36_48)"
   ]
  },
  {
   "cell_type": "code",
   "execution_count": 61,
   "id": "excited-evidence",
   "metadata": {},
   "outputs": [
    {
     "name": "stdout",
     "output_type": "stream",
     "text": [
      "9908\n"
     ]
    },
    {
     "data": {
      "text/plain": [
       "6256"
      ]
     },
     "execution_count": 61,
     "metadata": {},
     "output_type": "execute_result"
    }
   ],
   "source": [
    "duplicateRowsDF = df[df.duplicated()]\n",
    "print(len(df))\n",
    "len(duplicateRowsDF)"
   ]
  },
  {
   "cell_type": "code",
   "execution_count": null,
   "id": "integrated-simple",
   "metadata": {},
   "outputs": [],
   "source": [
    "gdf = geopandas.GeoDataFrame(\n",
    "    df, geometry=geopandas.points_from_xy(df.lon, df.lat))"
   ]
  },
  {
   "cell_type": "code",
   "execution_count": null,
   "id": "numerous-debut",
   "metadata": {},
   "outputs": [],
   "source": [
    "world = geopandas.read_file(geopandas.datasets.get_path('naturalearth_lowres'), bbox=(20.410, 59.800, 30.920, 69.910))\n",
    "\n",
    "ax = world[world.name == 'Finland'].plot(figsize=(10, 10),\n",
    "    color='white', edgecolor='black')\n",
    "ctx.add_basemap(ax)\n",
    "gdf.plot(ax=ax, alpha=0.5, edgecolor='k')\n",
    "\n",
    "plt.show()"
   ]
  }
 ],
 "metadata": {
  "kernelspec": {
   "display_name": "Python 3",
   "language": "python",
   "name": "python3"
  },
  "language_info": {
   "codemirror_mode": {
    "name": "ipython",
    "version": 3
   },
   "file_extension": ".py",
   "mimetype": "text/x-python",
   "name": "python",
   "nbconvert_exporter": "python",
   "pygments_lexer": "ipython3",
   "version": "3.8.6"
  }
 },
 "nbformat": 4,
 "nbformat_minor": 5
}
