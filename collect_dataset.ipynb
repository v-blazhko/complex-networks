{
 "cells": [
  {
   "cell_type": "code",
   "execution_count": 20,
   "id": "three-poetry",
   "metadata": {},
   "outputs": [],
   "source": [
    "import json\n",
    "import requests"
   ]
  },
  {
   "cell_type": "code",
   "execution_count": 21,
   "id": "powered-french",
   "metadata": {},
   "outputs": [],
   "source": [
    "api_key = u'b766ae533b2843f748b174f53885eee4'\n",
    "api_secret = u'ac3884caa9690723'\n",
    "base_url = "
   ]
  },
  {
   "cell_type": "code",
   "execution_count": 22,
   "id": "novel-celebration",
   "metadata": {},
   "outputs": [],
   "source": [
    "flickr = flickrapi.FlickrAPI(api_key, api_secret)"
   ]
  },
  {
   "cell_type": "code",
   "execution_count": 26,
   "id": "meaningful-prerequisite",
   "metadata": {},
   "outputs": [
    {
     "name": "stdout",
     "output_type": "stream",
     "text": [
      "{'photo': {'id': '50925128583', 'location': {'latitude': '61.507827', 'longitude': '23.649905', 'accuracy': '16', 'context': '0', 'locality': {'_content': 'Tampere'}, 'county': {'_content': 'Tampere'}, 'region': {'_content': 'Tampere'}, 'country': {'_content': 'Finland'}, 'neighbourhood': {'_content': 'Ristimäki'}}}, 'stat': 'ok'}\n"
     ]
    }
   ],
   "source": [
    "flickr = flickrapi.FlickrAPI(api_key, api_secret, format='json')\n",
    "photos = flickr.photos.search(per_page='10', lat='61.4978', lon='23.7610', accuracy=3, has_geo=1)\n",
    "parsed = json.loads(photos.decode('utf-8'))\n",
    "\n",
    "id = parsed['photos']['photo'][0]['id']\n",
    "geo = flickr.do_flickr_call('flickr.photos.geo.getLocation', photo_id=id)\n",
    "print(json.loads(geo.decode('utf-8')))\n"
   ]
  },
  {
   "cell_type": "markdown",
   "id": "identical-belly",
   "metadata": {},
   "source": [
    "## Data collection strategy:\n",
    "COll"
   ]
  }
 ],
 "metadata": {
  "kernelspec": {
   "display_name": "Python 3",
   "language": "python",
   "name": "python3"
  }
 },
 "nbformat": 4,
 "nbformat_minor": 5
}
