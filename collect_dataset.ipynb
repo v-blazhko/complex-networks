{
 "cells": [
  {
   "cell_type": "code",
   "execution_count": 68,
   "id": "three-poetry",
   "metadata": {},
   "outputs": [
    {
     "ename": "ModuleNotFoundError",
     "evalue": "No module named 'contextily'",
     "output_type": "error",
     "traceback": [
      "\u001b[1;31m---------------------------------------------------------------------------\u001b[0m",
      "\u001b[1;31mModuleNotFoundError\u001b[0m                       Traceback (most recent call last)",
      "\u001b[1;32m<ipython-input-68-1e442c24340c>\u001b[0m in \u001b[0;36m<module>\u001b[1;34m\u001b[0m\n\u001b[0;32m      7\u001b[0m \u001b[1;32mimport\u001b[0m \u001b[0mgeopandas\u001b[0m\u001b[1;33m\u001b[0m\u001b[1;33m\u001b[0m\u001b[0m\n\u001b[0;32m      8\u001b[0m \u001b[1;32mimport\u001b[0m \u001b[0mmatplotlib\u001b[0m\u001b[1;33m.\u001b[0m\u001b[0mpyplot\u001b[0m \u001b[1;32mas\u001b[0m \u001b[0mplt\u001b[0m\u001b[1;33m\u001b[0m\u001b[1;33m\u001b[0m\u001b[0m\n\u001b[1;32m----> 9\u001b[1;33m \u001b[1;32mimport\u001b[0m \u001b[0mcontextily\u001b[0m \u001b[1;32mas\u001b[0m \u001b[0mctx\u001b[0m\u001b[1;33m\u001b[0m\u001b[1;33m\u001b[0m\u001b[0m\n\u001b[0m",
      "\u001b[1;31mModuleNotFoundError\u001b[0m: No module named 'contextily'"
     ]
    }
   ],
   "source": [
    "import json\n",
    "import requests\n",
    "import flickrapi\n",
    "import pandas as pd\n",
    "from tqdm import tqdm\n",
    "from vincenty import vincenty\n",
    "import geopandas\n",
    "import matplotlib.pyplot as plt\n",
    "import contextily as ctx"
   ]
  },
  {
   "cell_type": "code",
   "execution_count": 35,
   "id": "powered-french",
   "metadata": {},
   "outputs": [],
   "source": [
    "api_key = u'b766ae533b2843f748b174f53885eee4'\n",
    "api_secret = u'ac3884caa9690723'"
   ]
  },
  {
   "cell_type": "code",
   "execution_count": 36,
   "id": "novel-celebration",
   "metadata": {},
   "outputs": [],
   "source": [
    "flickr = flickrapi.FlickrAPI(api_key, api_secret)"
   ]
  },
  {
   "cell_type": "code",
   "execution_count": 37,
   "id": "meaningful-prerequisite",
   "metadata": {},
   "outputs": [
    {
     "name": "stdout",
     "output_type": "stream",
     "text": [
      "{'photo': {'id': '50966372106', 'location': {'latitude': '63.447933', 'longitude': '26.673366', 'accuracy': '16', 'context': '0', 'locality': {'_content': 'Pielavesi'}, 'county': {'_content': 'Ylä-Savo'}, 'region': {'_content': 'North Savo'}, 'country': {'_content': 'Finland'}, 'neighbourhood': {'_content': 'Nousiala'}}}, 'stat': 'ok'}\n"
     ]
    }
   ],
   "source": [
    "flickr = flickrapi.FlickrAPI(api_key, api_secret, format='json')\n",
    "photos = flickr.photos.search(per_page='250', bbox='21.402542, 60.562697, 28.664383, 69.766582', has_geo=1)\n",
    "parsed = json.loads(photos.decode('utf-8'))\n",
    "\n",
    "id = parsed['photos']['photo'][0]['id']\n",
    "geo = flickr.do_flickr_call('flickr.photos.geo.getLocation', photo_id=id)\n",
    "print(json.loads(geo.decode('utf-8')))\n"
   ]
  },
  {
   "cell_type": "code",
   "execution_count": 40,
   "id": "genuine-dimension",
   "metadata": {},
   "outputs": [
    {
     "name": "stderr",
     "output_type": "stream",
     "text": [
      "100%|████████████████████████████████████████████████████████████████████████████████████████████████████████████████████████████████████████████████████████████████████████████████████████████████████████████████████████████████████| 54/54 [00:23<00:00,  2.34it/s]\n"
     ]
    }
   ],
   "source": [
    "photos_set = []\n",
    "for i in tqdm(range(1,55)):\n",
    "    res = flickr.photos.search(per_page='250', bbox='20.410, 59.800, 30.920, 69.910', has_geo=1)\n",
    "    parsed = json.loads(photos.decode('utf-8'))\n",
    "    for p in parsed['photos']['photo']:\n",
    "        photos_set.append(p)"
   ]
  },
  {
   "cell_type": "code",
   "execution_count": 41,
   "id": "geological-beverage",
   "metadata": {},
   "outputs": [
    {
     "data": {
      "text/plain": [
       "9342"
      ]
     },
     "execution_count": 41,
     "metadata": {},
     "output_type": "execute_result"
    }
   ],
   "source": [
    "len(photos_set)"
   ]
  },
  {
   "cell_type": "code",
   "execution_count": 42,
   "id": "hired-vermont",
   "metadata": {},
   "outputs": [
    {
     "data": {
      "text/plain": [
       "{'id': '50966372106',\n",
       " 'owner': '18215332@N00',\n",
       " 'secret': '7e8144f8b3',\n",
       " 'server': '65535',\n",
       " 'farm': 66,\n",
       " 'title': 'Flowing',\n",
       " 'ispublic': 1,\n",
       " 'isfriend': 0,\n",
       " 'isfamily': 0}"
      ]
     },
     "execution_count": 42,
     "metadata": {},
     "output_type": "execute_result"
    }
   ],
   "source": [
    "photos_set[0]"
   ]
  },
  {
   "cell_type": "code",
   "execution_count": 43,
   "id": "dense-respondent",
   "metadata": {},
   "outputs": [
    {
     "name": "stderr",
     "output_type": "stream",
     "text": [
      "100%|████████████████████████████████████████████████████████████████████████████████████████████████████████████████████████████████████████████████████████████████████████████████████████████████████████████████████████████████| 9342/9342 [34:13<00:00,  4.55it/s]\n"
     ]
    }
   ],
   "source": [
    "# photo_id, lat, lon, name, locality, neighbourhood\n",
    "photo_ids = []\n",
    "lats = []\n",
    "longs = []\n",
    "names = []\n",
    "localities = []\n",
    "neighbourhoods = []\n",
    "for p in tqdm(photos_set):\n",
    "    photo_id = p['id']\n",
    "    geo = flickr.do_flickr_call('flickr.photos.geo.getLocation', photo_id=photo_id)\n",
    "    parsed = json.loads(geo.decode('utf-8'))\n",
    "    ## construct arrays of data\n",
    "    photo_ids.append(photo_id)\n",
    "    names.append(p['title'])\n",
    "    lats.append(parsed['photo']['location']['latitude'])\n",
    "    longs.append(parsed['photo']['location']['longitude'])\n",
    "    localities.append(parsed['photo']['location']['locality']['_content'])\n",
    "    neighbourhoods.append(parsed['photo']['location']['neighbourhood']['_content'])"
   ]
  },
  {
   "cell_type": "markdown",
   "id": "identical-belly",
   "metadata": {},
   "source": [
    "## Data collection strategy:\n",
    "We collect geographical information on all pictures taken in Finland inside the BBOX 21.402542, 60.562697, 28.664383, 69.766582.\n",
    "Then, we test various clusterization algorithms to create ~500 nodes where each node represents a location.\n",
    "For each location we can find ot the number of pictures taken, the most common names and tags. \n",
    "The edge is represented by distance calculated with Vincenty formula. "
   ]
  },
  {
   "cell_type": "code",
   "execution_count": 44,
   "id": "different-journal",
   "metadata": {},
   "outputs": [],
   "source": [
    "df = pd.DataFrame({'id': photo_ids,\n",
    "                  'name': names,\n",
    "                  'lat': lats,\n",
    "                  'lon': longs,\n",
    "                  'locality': localities,\n",
    "                  'neighbourhood': neighbourhoods})"
   ]
  },
  {
   "cell_type": "code",
   "execution_count": null,
   "id": "compound-climate",
   "metadata": {},
   "outputs": [],
   "source": [
    "df.to_csv('photoset.csv')"
   ]
  },
  {
   "cell_type": "code",
   "execution_count": null,
   "id": "fewer-swimming",
   "metadata": {},
   "outputs": [],
   "source": [
    "df_from_csv = pd.read_csv('photoset.csv', delimeter=',')"
   ]
  },
  {
   "cell_type": "code",
   "execution_count": 61,
   "id": "received-merit",
   "metadata": {},
   "outputs": [],
   "source": [
    "gdf = geopandas.GeoDataFrame(\n",
    "    df, geometry=geopandas.points_from_xy(df.lon, df.lat))"
   ]
  },
  {
   "cell_type": "code",
   "execution_count": 62,
   "id": "sixth-framework",
   "metadata": {},
   "outputs": [
    {
     "data": {
      "text/html": [
       "<div>\n",
       "<style scoped>\n",
       "    .dataframe tbody tr th:only-of-type {\n",
       "        vertical-align: middle;\n",
       "    }\n",
       "\n",
       "    .dataframe tbody tr th {\n",
       "        vertical-align: top;\n",
       "    }\n",
       "\n",
       "    .dataframe thead th {\n",
       "        text-align: right;\n",
       "    }\n",
       "</style>\n",
       "<table border=\"1\" class=\"dataframe\">\n",
       "  <thead>\n",
       "    <tr style=\"text-align: right;\">\n",
       "      <th></th>\n",
       "      <th>id</th>\n",
       "      <th>name</th>\n",
       "      <th>lat</th>\n",
       "      <th>lon</th>\n",
       "      <th>locality</th>\n",
       "      <th>neighbourhood</th>\n",
       "      <th>geometry</th>\n",
       "    </tr>\n",
       "  </thead>\n",
       "  <tbody>\n",
       "    <tr>\n",
       "      <th>0</th>\n",
       "      <td>50966372106</td>\n",
       "      <td>Flowing</td>\n",
       "      <td>63.447933</td>\n",
       "      <td>26.673366</td>\n",
       "      <td>Pielavesi</td>\n",
       "      <td>Nousiala</td>\n",
       "      <td>POINT (26.67337 63.44793)</td>\n",
       "    </tr>\n",
       "    <tr>\n",
       "      <th>1</th>\n",
       "      <td>50965089143</td>\n",
       "      <td>Iisalmi</td>\n",
       "      <td>63.562122</td>\n",
       "      <td>27.188588</td>\n",
       "      <td>Iisalmi</td>\n",
       "      <td>Iisalmi</td>\n",
       "      <td>POINT (27.18859 63.56212)</td>\n",
       "    </tr>\n",
       "    <tr>\n",
       "      <th>2</th>\n",
       "      <td>50959607628</td>\n",
       "      <td>Raholan Pyrkivä - Hyvinkään Ponteva, Miesten D...</td>\n",
       "      <td>61.508915</td>\n",
       "      <td>23.627547</td>\n",
       "      <td>Tampere</td>\n",
       "      <td>Tohloppi</td>\n",
       "      <td>POINT (23.62755 61.50892)</td>\n",
       "    </tr>\n",
       "    <tr>\n",
       "      <th>3</th>\n",
       "      <td>50959607383</td>\n",
       "      <td>Raholan Pyrkivä - Hyvinkään Ponteva, Miesten D...</td>\n",
       "      <td>61.508915</td>\n",
       "      <td>23.627547</td>\n",
       "      <td>Tampere</td>\n",
       "      <td>Tohloppi</td>\n",
       "      <td>POINT (23.62755 61.50892)</td>\n",
       "    </tr>\n",
       "    <tr>\n",
       "      <th>4</th>\n",
       "      <td>50958988873</td>\n",
       "      <td>DJI_0987</td>\n",
       "      <td>61.105755</td>\n",
       "      <td>21.448102</td>\n",
       "      <td>Rauma</td>\n",
       "      <td>Sampaanala</td>\n",
       "      <td>POINT (21.44810 61.10576)</td>\n",
       "    </tr>\n",
       "  </tbody>\n",
       "</table>\n",
       "</div>"
      ],
      "text/plain": [
       "            id                                               name        lat  \\\n",
       "0  50966372106                                            Flowing  63.447933   \n",
       "1  50965089143                                            Iisalmi  63.562122   \n",
       "2  50959607628  Raholan Pyrkivä - Hyvinkään Ponteva, Miesten D...  61.508915   \n",
       "3  50959607383  Raholan Pyrkivä - Hyvinkään Ponteva, Miesten D...  61.508915   \n",
       "4  50958988873                                           DJI_0987  61.105755   \n",
       "\n",
       "         lon   locality neighbourhood                   geometry  \n",
       "0  26.673366  Pielavesi      Nousiala  POINT (26.67337 63.44793)  \n",
       "1  27.188588    Iisalmi       Iisalmi  POINT (27.18859 63.56212)  \n",
       "2  23.627547    Tampere      Tohloppi  POINT (23.62755 61.50892)  \n",
       "3  23.627547    Tampere      Tohloppi  POINT (23.62755 61.50892)  \n",
       "4  21.448102      Rauma    Sampaanala  POINT (21.44810 61.10576)  "
      ]
     },
     "execution_count": 62,
     "metadata": {},
     "output_type": "execute_result"
    }
   ],
   "source": [
    "gdf.head()"
   ]
  },
  {
   "cell_type": "code",
   "execution_count": null,
   "id": "grateful-receiver",
   "metadata": {},
   "outputs": [],
   "source": [
    "world = geopandas.read_file('shapes/fi_1km.shp')\n",
    "\n",
    "ax = world.plot(figsize=(10, 10), alpha=0.5, edgecolor='k')\n",
    "\n",
    "gdf.plot(ax=ax, color='red')\n",
    "\n",
    "plt.show()"
   ]
  }
 ],
 "metadata": {
  "kernelspec": {
   "display_name": "Python 3",
   "language": "python",
   "name": "python3"
  },
  "language_info": {
   "codemirror_mode": {
    "name": "ipython",
    "version": 3
   },
   "file_extension": ".py",
   "mimetype": "text/x-python",
   "name": "python",
   "nbconvert_exporter": "python",
   "pygments_lexer": "ipython3",
   "version": "3.8.6"
  }
 },
 "nbformat": 4,
 "nbformat_minor": 5
}
