{
 "cells": [
  {
   "cell_type": "code",
   "execution_count": 63,
   "id": "liberal-treasurer",
   "metadata": {},
   "outputs": [],
   "source": [
    "import json\n",
    "import requests\n",
    "import flickrapi\n",
    "import pandas as pd\n",
    "from tqdm import tqdm\n",
    "from vincenty import vincenty\n",
    "import geopandas\n",
    "import matplotlib.pyplot as plt\n",
    "import contextily as ctx\n",
    "from sklearn.cluster import AgglomerativeClustering\n",
    "from sklearn.cluster import DBSCAN\n",
    "from geopy.distance import great_circle\n",
    "from shapely.geometry import MultiPoint\n",
    "import time\n",
    "import numpy as np\n",
    "from sklearn import metrics\n"
   ]
  },
  {
   "cell_type": "code",
   "execution_count": 35,
   "id": "intelligent-metro",
   "metadata": {},
   "outputs": [
    {
     "data": {
      "text/html": [
       "<div>\n",
       "<style scoped>\n",
       "    .dataframe tbody tr th:only-of-type {\n",
       "        vertical-align: middle;\n",
       "    }\n",
       "\n",
       "    .dataframe tbody tr th {\n",
       "        vertical-align: top;\n",
       "    }\n",
       "\n",
       "    .dataframe thead th {\n",
       "        text-align: right;\n",
       "    }\n",
       "</style>\n",
       "<table border=\"1\" class=\"dataframe\">\n",
       "  <thead>\n",
       "    <tr style=\"text-align: right;\">\n",
       "      <th></th>\n",
       "      <th>id</th>\n",
       "      <th>name</th>\n",
       "      <th>lat</th>\n",
       "      <th>lon</th>\n",
       "      <th>locality</th>\n",
       "      <th>neighbourhood</th>\n",
       "      <th>geometry</th>\n",
       "    </tr>\n",
       "  </thead>\n",
       "  <tbody>\n",
       "    <tr>\n",
       "      <th>0</th>\n",
       "      <td>50966372106</td>\n",
       "      <td>Flowing</td>\n",
       "      <td>63.447933</td>\n",
       "      <td>26.673366</td>\n",
       "      <td>Pielavesi</td>\n",
       "      <td>Nousiala</td>\n",
       "      <td>POINT (26.673366 63.447933)</td>\n",
       "    </tr>\n",
       "    <tr>\n",
       "      <th>1</th>\n",
       "      <td>50965089143</td>\n",
       "      <td>Iisalmi</td>\n",
       "      <td>63.562122</td>\n",
       "      <td>27.188588</td>\n",
       "      <td>Iisalmi</td>\n",
       "      <td>Iisalmi</td>\n",
       "      <td>POINT (27.188588 63.562122)</td>\n",
       "    </tr>\n",
       "    <tr>\n",
       "      <th>2</th>\n",
       "      <td>50959607628</td>\n",
       "      <td>Raholan Pyrkivä - Hyvinkään Ponteva, Miesten D...</td>\n",
       "      <td>61.508915</td>\n",
       "      <td>23.627547</td>\n",
       "      <td>Tampere</td>\n",
       "      <td>Tohloppi</td>\n",
       "      <td>POINT (23.627547 61.508915)</td>\n",
       "    </tr>\n",
       "    <tr>\n",
       "      <th>3</th>\n",
       "      <td>50959607383</td>\n",
       "      <td>Raholan Pyrkivä - Hyvinkään Ponteva, Miesten D...</td>\n",
       "      <td>61.508915</td>\n",
       "      <td>23.627547</td>\n",
       "      <td>Tampere</td>\n",
       "      <td>Tohloppi</td>\n",
       "      <td>POINT (23.627547 61.508915)</td>\n",
       "    </tr>\n",
       "    <tr>\n",
       "      <th>4</th>\n",
       "      <td>50958988873</td>\n",
       "      <td>DJI_0987</td>\n",
       "      <td>61.105755</td>\n",
       "      <td>21.448102</td>\n",
       "      <td>Rauma</td>\n",
       "      <td>Sampaanala</td>\n",
       "      <td>POINT (21.448102 61.105755)</td>\n",
       "    </tr>\n",
       "  </tbody>\n",
       "</table>\n",
       "</div>"
      ],
      "text/plain": [
       "            id                                               name        lat  \\\n",
       "0  50966372106                                            Flowing  63.447933   \n",
       "1  50965089143                                            Iisalmi  63.562122   \n",
       "2  50959607628  Raholan Pyrkivä - Hyvinkään Ponteva, Miesten D...  61.508915   \n",
       "3  50959607383  Raholan Pyrkivä - Hyvinkään Ponteva, Miesten D...  61.508915   \n",
       "4  50958988873                                           DJI_0987  61.105755   \n",
       "\n",
       "         lon   locality neighbourhood                     geometry  \n",
       "0  26.673366  Pielavesi      Nousiala  POINT (26.673366 63.447933)  \n",
       "1  27.188588    Iisalmi       Iisalmi  POINT (27.188588 63.562122)  \n",
       "2  23.627547    Tampere      Tohloppi  POINT (23.627547 61.508915)  \n",
       "3  23.627547    Tampere      Tohloppi  POINT (23.627547 61.508915)  \n",
       "4  21.448102      Rauma    Sampaanala  POINT (21.448102 61.105755)  "
      ]
     },
     "execution_count": 35,
     "metadata": {},
     "output_type": "execute_result"
    }
   ],
   "source": [
    "df = pd.read_csv('photoset.csv')\n",
    "df.head()"
   ]
  },
  {
   "cell_type": "code",
   "execution_count": 74,
   "id": "international-documentation",
   "metadata": {},
   "outputs": [
    {
     "data": {
      "text/html": [
       "<div>\n",
       "<style scoped>\n",
       "    .dataframe tbody tr th:only-of-type {\n",
       "        vertical-align: middle;\n",
       "    }\n",
       "\n",
       "    .dataframe tbody tr th {\n",
       "        vertical-align: top;\n",
       "    }\n",
       "\n",
       "    .dataframe thead th {\n",
       "        text-align: right;\n",
       "    }\n",
       "</style>\n",
       "<table border=\"1\" class=\"dataframe\">\n",
       "  <thead>\n",
       "    <tr style=\"text-align: right;\">\n",
       "      <th></th>\n",
       "      <th>lon</th>\n",
       "      <th>lat</th>\n",
       "      <th>count</th>\n",
       "    </tr>\n",
       "  </thead>\n",
       "  <tbody>\n",
       "    <tr>\n",
       "      <th>0</th>\n",
       "      <td>21.448102</td>\n",
       "      <td>61.105755</td>\n",
       "      <td>54</td>\n",
       "    </tr>\n",
       "    <tr>\n",
       "      <th>1</th>\n",
       "      <td>21.474083</td>\n",
       "      <td>69.482066</td>\n",
       "      <td>54</td>\n",
       "    </tr>\n",
       "    <tr>\n",
       "      <th>2</th>\n",
       "      <td>21.476972</td>\n",
       "      <td>68.684638</td>\n",
       "      <td>54</td>\n",
       "    </tr>\n",
       "    <tr>\n",
       "      <th>3</th>\n",
       "      <td>21.513408</td>\n",
       "      <td>61.126868</td>\n",
       "      <td>54</td>\n",
       "    </tr>\n",
       "    <tr>\n",
       "      <th>4</th>\n",
       "      <td>21.556001</td>\n",
       "      <td>61.572327</td>\n",
       "      <td>54</td>\n",
       "    </tr>\n",
       "    <tr>\n",
       "      <th>...</th>\n",
       "      <td>...</td>\n",
       "      <td>...</td>\n",
       "      <td>...</td>\n",
       "    </tr>\n",
       "    <tr>\n",
       "      <th>140</th>\n",
       "      <td>28.312097</td>\n",
       "      <td>62.120786</td>\n",
       "      <td>54</td>\n",
       "    </tr>\n",
       "    <tr>\n",
       "      <th>141</th>\n",
       "      <td>28.401200</td>\n",
       "      <td>61.603702</td>\n",
       "      <td>54</td>\n",
       "    </tr>\n",
       "    <tr>\n",
       "      <th>142</th>\n",
       "      <td>28.551481</td>\n",
       "      <td>61.038155</td>\n",
       "      <td>54</td>\n",
       "    </tr>\n",
       "    <tr>\n",
       "      <th>143</th>\n",
       "      <td>28.590652</td>\n",
       "      <td>61.118366</td>\n",
       "      <td>54</td>\n",
       "    </tr>\n",
       "    <tr>\n",
       "      <th>144</th>\n",
       "      <td>28.639550</td>\n",
       "      <td>62.547725</td>\n",
       "      <td>108</td>\n",
       "    </tr>\n",
       "  </tbody>\n",
       "</table>\n",
       "<p>145 rows × 3 columns</p>\n",
       "</div>"
      ],
      "text/plain": [
       "           lon        lat  count\n",
       "0    21.448102  61.105755     54\n",
       "1    21.474083  69.482066     54\n",
       "2    21.476972  68.684638     54\n",
       "3    21.513408  61.126868     54\n",
       "4    21.556001  61.572327     54\n",
       "..         ...        ...    ...\n",
       "140  28.312097  62.120786     54\n",
       "141  28.401200  61.603702     54\n",
       "142  28.551481  61.038155     54\n",
       "143  28.590652  61.118366     54\n",
       "144  28.639550  62.547725    108\n",
       "\n",
       "[145 rows x 3 columns]"
      ]
     },
     "execution_count": 74,
     "metadata": {},
     "output_type": "execute_result"
    }
   ],
   "source": [
    "df.groupby(['lon','lat']).size().reset_index().rename(columns={0:'count'})"
   ]
  },
  {
   "cell_type": "code",
   "execution_count": 36,
   "id": "studied-orchestra",
   "metadata": {},
   "outputs": [],
   "source": [
    "gdf = geopandas.GeoDataFrame(\n",
    "    df, geometry=geopandas.points_from_xy(df.lon, df.lat))"
   ]
  },
  {
   "cell_type": "code",
   "execution_count": 46,
   "id": "cosmetic-paintball",
   "metadata": {},
   "outputs": [
    {
     "data": {
      "image/png": "[encoded data removed]",
      "text/plain": [
       "<Figure size 720x720 with 1 Axes>"
      ]
     },
     "metadata": {
      "needs_background": "light"
     },
     "output_type": "display_data"
    }
   ],
   "source": [
    "world = geopandas.read_file(geopandas.datasets.get_path('naturalearth_lowres'))\n",
    "\n",
    "ax = world[world.name == 'Finland'].plot(figsize=(10, 10),\n",
    "    color='white', edgecolor='black')\n",
    "ctx.add_basemap(ax, zoom=2)\n",
    "gdf.plot(ax=ax, alpha=0.5, edgecolor='k')\n",
    "\n",
    "plt.show()"
   ]
  },
  {
   "cell_type": "code",
   "execution_count": 56,
   "id": "atlantic-parade",
   "metadata": {},
   "outputs": [],
   "source": [
    "coords = df[[\"lat\", \"lon\"]].values"
   ]
  },
  {
   "cell_type": "code",
   "execution_count": 72,
   "id": "induced-mineral",
   "metadata": {},
   "outputs": [
    {
     "data": {
      "image/png": "[encoded data removed]",
      "text/plain": [
       "<Figure size 720x432 with 1 Axes>"
      ]
     },
     "metadata": {
      "needs_background": "light"
     },
     "output_type": "display_data"
    }
   ],
   "source": [
    "fig, ax = plt.subplots(figsize=[10, 6])\n",
    "df_scatter = ax.scatter(df['lon'], df['lat'], c='k', alpha=0.9, s=3)\n",
    "ax.set_xlabel('Longitude')\n",
    "ax.set_ylabel('Latitude')\n",
    "plt.show()"
   ]
  },
  {
   "cell_type": "code",
   "execution_count": 64,
   "id": "internal-admission",
   "metadata": {},
   "outputs": [
    {
     "name": "stdout",
     "output_type": "stream",
     "text": [
      "Clustered 9,342 points down to 93 clusters, for 99.0% compression in 0.09 seconds\n",
      "Silhouette coefficient: 0.920\n"
     ]
    }
   ],
   "source": [
    "# define the number of kilometers in one radian\n",
    "kms_per_radian = 6371.0088\n",
    "\n",
    "# define epsilon as 1.5 kilometers, converted to radians for use by haversine\n",
    "epsilon = 1.5 / kms_per_radian\n",
    "\n",
    "start_time = time.time()\n",
    "db = DBSCAN(eps=epsilon, min_samples=1, algorithm='ball_tree', metric='haversine').fit(np.radians(coords))\n",
    "cluster_labels = db.labels_\n",
    "# get the number of clusters\n",
    "num_clusters = len(set(cluster_labels))\n",
    "\n",
    "# all done, print the outcome\n",
    "message = 'Clustered {:,} points down to {:,} clusters, for {:.1f}% compression in {:,.2f} seconds'\n",
    "print(message.format(len(df), num_clusters, 100*(1 - float(num_clusters) / len(df)), time.time()-start_time))\n",
    "print('Silhouette coefficient: {:0.03f}'.format(metrics.silhouette_score(coords, cluster_labels)))\n"
   ]
  },
  {
   "cell_type": "code",
   "execution_count": 65,
   "id": "continental-living",
   "metadata": {},
   "outputs": [],
   "source": [
    "# turn the clusters in to a pandas series, where each element is a cluster of points\n",
    "clusters = pd.Series([coords[cluster_labels==n] for n in range(num_clusters)])"
   ]
  },
  {
   "cell_type": "code",
   "execution_count": 66,
   "id": "taken-lounge",
   "metadata": {},
   "outputs": [],
   "source": [
    "def get_centermost_point(cluster):\n",
    "    centroid = (MultiPoint(cluster).centroid.x, MultiPoint(cluster).centroid.y)\n",
    "    centermost_point = min(cluster, key=lambda point: great_circle(point, centroid).m)\n",
    "    return tuple(centermost_point)\n",
    "\n",
    "centermost_points = clusters.map(get_centermost_point)"
   ]
  },
  {
   "cell_type": "code",
   "execution_count": 67,
   "id": "perfect-bumper",
   "metadata": {},
   "outputs": [
    {
     "data": {
      "text/html": [
       "<div>\n",
       "<style scoped>\n",
       "    .dataframe tbody tr th:only-of-type {\n",
       "        vertical-align: middle;\n",
       "    }\n",
       "\n",
       "    .dataframe tbody tr th {\n",
       "        vertical-align: top;\n",
       "    }\n",
       "\n",
       "    .dataframe thead th {\n",
       "        text-align: right;\n",
       "    }\n",
       "</style>\n",
       "<table border=\"1\" class=\"dataframe\">\n",
       "  <thead>\n",
       "    <tr style=\"text-align: right;\">\n",
       "      <th></th>\n",
       "      <th>lon</th>\n",
       "      <th>lat</th>\n",
       "    </tr>\n",
       "  </thead>\n",
       "  <tbody>\n",
       "    <tr>\n",
       "      <th>88</th>\n",
       "      <td>27.402110</td>\n",
       "      <td>62.677688</td>\n",
       "    </tr>\n",
       "    <tr>\n",
       "      <th>89</th>\n",
       "      <td>28.551481</td>\n",
       "      <td>61.038155</td>\n",
       "    </tr>\n",
       "    <tr>\n",
       "      <th>90</th>\n",
       "      <td>23.963861</td>\n",
       "      <td>61.814305</td>\n",
       "    </tr>\n",
       "    <tr>\n",
       "      <th>91</th>\n",
       "      <td>27.912644</td>\n",
       "      <td>62.305661</td>\n",
       "    </tr>\n",
       "    <tr>\n",
       "      <th>92</th>\n",
       "      <td>23.598117</td>\n",
       "      <td>61.493721</td>\n",
       "    </tr>\n",
       "  </tbody>\n",
       "</table>\n",
       "</div>"
      ],
      "text/plain": [
       "          lon        lat\n",
       "88  27.402110  62.677688\n",
       "89  28.551481  61.038155\n",
       "90  23.963861  61.814305\n",
       "91  27.912644  62.305661\n",
       "92  23.598117  61.493721"
      ]
     },
     "execution_count": 67,
     "metadata": {},
     "output_type": "execute_result"
    }
   ],
   "source": [
    "# unzip the list of centermost points (lat, lon) tuples into separate lat and lon lists\n",
    "lats, lons = zip(*centermost_points)\n",
    "\n",
    "# from these lats/lons create a new df of one representative point for each cluster\n",
    "rep_points = pd.DataFrame({'lon':lons, 'lat':lats})\n",
    "rep_points.tail()"
   ]
  },
  {
   "cell_type": "code",
   "execution_count": 69,
   "id": "august-vegetation",
   "metadata": {},
   "outputs": [
    {
     "data": {
      "text/html": [
       "<div>\n",
       "<style scoped>\n",
       "    .dataframe tbody tr th:only-of-type {\n",
       "        vertical-align: middle;\n",
       "    }\n",
       "\n",
       "    .dataframe tbody tr th {\n",
       "        vertical-align: top;\n",
       "    }\n",
       "\n",
       "    .dataframe thead th {\n",
       "        text-align: right;\n",
       "    }\n",
       "</style>\n",
       "<table border=\"1\" class=\"dataframe\">\n",
       "  <thead>\n",
       "    <tr style=\"text-align: right;\">\n",
       "      <th></th>\n",
       "      <th>id</th>\n",
       "      <th>name</th>\n",
       "      <th>lat</th>\n",
       "      <th>lon</th>\n",
       "      <th>locality</th>\n",
       "      <th>neighbourhood</th>\n",
       "      <th>geometry</th>\n",
       "    </tr>\n",
       "  </thead>\n",
       "  <tbody>\n",
       "    <tr>\n",
       "      <th>88</th>\n",
       "      <td>50440465043</td>\n",
       "      <td>Kutunjärvi</td>\n",
       "      <td>62.677688</td>\n",
       "      <td>27.402110</td>\n",
       "      <td>Suonenjoki</td>\n",
       "      <td>Lempyy</td>\n",
       "      <td>POINT (27.40211 62.677688)</td>\n",
       "    </tr>\n",
       "    <tr>\n",
       "      <th>89</th>\n",
       "      <td>50416326123</td>\n",
       "      <td>Morning mist</td>\n",
       "      <td>61.038155</td>\n",
       "      <td>28.551481</td>\n",
       "      <td>Lappeenranta</td>\n",
       "      <td>Konnunsuo</td>\n",
       "      <td>POINT (28.551481 61.038155)</td>\n",
       "    </tr>\n",
       "    <tr>\n",
       "      <th>90</th>\n",
       "      <td>50887289067</td>\n",
       "      <td>Snowshoeing at Murole</td>\n",
       "      <td>61.814305</td>\n",
       "      <td>23.963861</td>\n",
       "      <td>Ruovesi</td>\n",
       "      <td>Murole</td>\n",
       "      <td>POINT (23.963861 61.814305)</td>\n",
       "    </tr>\n",
       "    <tr>\n",
       "      <th>91</th>\n",
       "      <td>50516561392</td>\n",
       "      <td>Taipale Canal</td>\n",
       "      <td>62.305661</td>\n",
       "      <td>27.912644</td>\n",
       "      <td>Varkaus</td>\n",
       "      <td>Kämäri</td>\n",
       "      <td>POINT (27.912644 62.305661)</td>\n",
       "    </tr>\n",
       "    <tr>\n",
       "      <th>92</th>\n",
       "      <td>50412065118</td>\n",
       "      <td>Mustavuori Gravity Race-alamäkikisa</td>\n",
       "      <td>61.493721</td>\n",
       "      <td>23.598117</td>\n",
       "      <td>Tampere</td>\n",
       "      <td>Likolammi</td>\n",
       "      <td>POINT (23.598117 61.493721)</td>\n",
       "    </tr>\n",
       "  </tbody>\n",
       "</table>\n",
       "</div>"
      ],
      "text/plain": [
       "             id                                 name        lat        lon  \\\n",
       "88  50440465043                           Kutunjärvi  62.677688  27.402110   \n",
       "89  50416326123                         Morning mist  61.038155  28.551481   \n",
       "90  50887289067                Snowshoeing at Murole  61.814305  23.963861   \n",
       "91  50516561392                        Taipale Canal  62.305661  27.912644   \n",
       "92  50412065118  Mustavuori Gravity Race-alamäkikisa  61.493721  23.598117   \n",
       "\n",
       "        locality neighbourhood                     geometry  \n",
       "88    Suonenjoki        Lempyy   POINT (27.40211 62.677688)  \n",
       "89  Lappeenranta     Konnunsuo  POINT (28.551481 61.038155)  \n",
       "90       Ruovesi        Murole  POINT (23.963861 61.814305)  \n",
       "91       Varkaus        Kämäri  POINT (27.912644 62.305661)  \n",
       "92       Tampere     Likolammi  POINT (23.598117 61.493721)  "
      ]
     },
     "execution_count": 69,
     "metadata": {},
     "output_type": "execute_result"
    }
   ],
   "source": [
    "rs = rep_points.apply(lambda row: df[(df['lat']==row['lat']) & (df['lon']==row['lon'])].iloc[0], axis=1)\n",
    "rs.to_csv('res_clust.csv', encoding='utf-8')\n",
    "rs.tail()"
   ]
  },
  {
   "cell_type": "code",
   "execution_count": 73,
   "id": "departmental-grenada",
   "metadata": {},
   "outputs": [
    {
     "data": {
      "image/png": "[encoded data removed]",
      "text/plain": [
       "<Figure size 720x432 with 1 Axes>"
      ]
     },
     "metadata": {
      "needs_background": "light"
     },
     "output_type": "display_data"
    }
   ],
   "source": [
    "fig, ax = plt.subplots(figsize=[10, 6])\n",
    "rs_scatter = ax.scatter(rs['lon'], rs['lat'], c='#99cc99', edgecolor='None', alpha=0.7, s=120)\n",
    "df_scatter = ax.scatter(df['lon'], df['lat'], c='k', alpha=0.9, s=3)\n",
    "ax.set_title('Full data set vs DBSCAN reduced set')\n",
    "ax.set_xlabel('Longitude')\n",
    "ax.set_ylabel('Latitude')\n",
    "ax.legend([df_scatter, rs_scatter], ['Full set', 'Reduced set'], loc='upper right')\n",
    "plt.show()"
   ]
  }
 ],
 "metadata": {
  "kernelspec": {
   "display_name": "cn",
   "language": "python",
   "name": "cn"
  },
  "language_info": {
   "codemirror_mode": {
    "name": "ipython",
    "version": 3
   },
   "file_extension": ".py",
   "mimetype": "text/x-python",
   "name": "python",
   "nbconvert_exporter": "python",
   "pygments_lexer": "ipython3",
   "version": "3.8.5"
  }
 },
 "nbformat": 4,
 "nbformat_minor": 5
}
