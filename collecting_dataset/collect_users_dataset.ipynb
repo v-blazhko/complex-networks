{
 "cells": [
  {
   "cell_type": "code",
   "execution_count": 2,
   "id": "danish-mailman",
   "metadata": {},
   "outputs": [],
   "source": [
    "import json\n",
    "import requests\n",
    "from requests.adapters import HTTPAdapter\n",
    "from requests.packages.urllib3.util.retry import Retry\n",
    "import flickrapi\n",
    "import pandas as pd\n",
    "from tqdm import tqdm\n",
    "import matplotlib.pyplot as plt\n",
    "import numpy as np\n",
    "import io"
   ]
  },
  {
   "cell_type": "code",
   "execution_count": 3,
   "id": "fundamental-violin",
   "metadata": {},
   "outputs": [],
   "source": [
    "api_key = u'b766ae533b2843f748b174f53885eee4'\n",
    "api_secret = u'ac3884caa9690723'\n",
    "flickr = flickrapi.FlickrAPI(api_key, api_secret, format='json')"
   ]
  },
  {
   "cell_type": "code",
   "execution_count": 4,
   "id": "compatible-roberts",
   "metadata": {},
   "outputs": [
    {
     "data": {
      "text/html": [
       "<div>\n",
       "<style scoped>\n",
       "    .dataframe tbody tr th:only-of-type {\n",
       "        vertical-align: middle;\n",
       "    }\n",
       "\n",
       "    .dataframe tbody tr th {\n",
       "        vertical-align: top;\n",
       "    }\n",
       "\n",
       "    .dataframe thead th {\n",
       "        text-align: right;\n",
       "    }\n",
       "</style>\n",
       "<table border=\"1\" class=\"dataframe\">\n",
       "  <thead>\n",
       "    <tr style=\"text-align: right;\">\n",
       "      <th></th>\n",
       "      <th>id</th>\n",
       "      <th>name</th>\n",
       "      <th>lat</th>\n",
       "      <th>lon</th>\n",
       "      <th>locality</th>\n",
       "      <th>region</th>\n",
       "      <th>neighbourhood</th>\n",
       "    </tr>\n",
       "  </thead>\n",
       "  <tbody>\n",
       "    <tr>\n",
       "      <th>0</th>\n",
       "      <td>50988380961</td>\n",
       "      <td>Late winter 2020-21</td>\n",
       "      <td>60.449969</td>\n",
       "      <td>22.265006</td>\n",
       "      <td>Turku</td>\n",
       "      <td>Finland Proper</td>\n",
       "      <td>Turku</td>\n",
       "    </tr>\n",
       "    <tr>\n",
       "      <th>1</th>\n",
       "      <td>50988488177</td>\n",
       "      <td>Late winter 2020-21</td>\n",
       "      <td>60.449969</td>\n",
       "      <td>22.265006</td>\n",
       "      <td>Turku</td>\n",
       "      <td>Finland Proper</td>\n",
       "      <td>Turku</td>\n",
       "    </tr>\n",
       "    <tr>\n",
       "      <th>2</th>\n",
       "      <td>50988380816</td>\n",
       "      <td>Late winter 2020-21</td>\n",
       "      <td>60.449969</td>\n",
       "      <td>22.265006</td>\n",
       "      <td>Turku</td>\n",
       "      <td>Finland Proper</td>\n",
       "      <td>Turku</td>\n",
       "    </tr>\n",
       "    <tr>\n",
       "      <th>3</th>\n",
       "      <td>50988380741</td>\n",
       "      <td>Late winter 2020-21</td>\n",
       "      <td>60.449969</td>\n",
       "      <td>22.265006</td>\n",
       "      <td>Turku</td>\n",
       "      <td>Finland Proper</td>\n",
       "      <td>Turku</td>\n",
       "    </tr>\n",
       "    <tr>\n",
       "      <th>4</th>\n",
       "      <td>50988487997</td>\n",
       "      <td>Late winter 2020-21</td>\n",
       "      <td>60.449969</td>\n",
       "      <td>22.265006</td>\n",
       "      <td>Turku</td>\n",
       "      <td>Finland Proper</td>\n",
       "      <td>Turku</td>\n",
       "    </tr>\n",
       "  </tbody>\n",
       "</table>\n",
       "</div>"
      ],
      "text/plain": [
       "            id                 name        lat        lon locality  \\\n",
       "0  50988380961  Late winter 2020-21  60.449969  22.265006    Turku   \n",
       "1  50988488177  Late winter 2020-21  60.449969  22.265006    Turku   \n",
       "2  50988380816  Late winter 2020-21  60.449969  22.265006    Turku   \n",
       "3  50988380741  Late winter 2020-21  60.449969  22.265006    Turku   \n",
       "4  50988487997  Late winter 2020-21  60.449969  22.265006    Turku   \n",
       "\n",
       "           region neighbourhood  \n",
       "0  Finland Proper         Turku  \n",
       "1  Finland Proper         Turku  \n",
       "2  Finland Proper         Turku  \n",
       "3  Finland Proper         Turku  \n",
       "4  Finland Proper         Turku  "
      ]
     },
     "execution_count": 4,
     "metadata": {},
     "output_type": "execute_result"
    }
   ],
   "source": [
    "df = pd.read_csv('dataset/dataset.csv', header=0, names=['id', 'name', 'lat', 'lon', 'locality', 'region', 'neighbourhood'])\n",
    "df.head()"
   ]
  },
  {
   "cell_type": "code",
   "execution_count": 5,
   "id": "pleased-purpose",
   "metadata": {},
   "outputs": [],
   "source": [
    "photo_ids = df['id'].values"
   ]
  },
  {
   "cell_type": "code",
   "execution_count": 6,
   "id": "familiar-archives",
   "metadata": {},
   "outputs": [],
   "source": [
    "retry_strategy = Retry(\n",
    "    total=3,\n",
    "    status_forcelist=[429, 500, 502, 503, 504],\n",
    "    method_whitelist=[\"HEAD\", \"GET\", \"OPTIONS\"]\n",
    ")\n",
    "adapter = HTTPAdapter(max_retries=retry_strategy)\n",
    "http = requests.Session()\n",
    "http.mount(\"https://\", adapter)\n",
    "http.mount(\"http://\", adapter)\n"
   ]
  },
  {
   "cell_type": "code",
   "execution_count": 23,
   "id": "organic-basement",
   "metadata": {},
   "outputs": [
    {
     "name": "stderr",
     "output_type": "stream",
     "text": [
      "100%|██████████████████████████████████████████████████████████████████████████| 15951/15951 [1:28:09<00:00,  3.02it/s]\n"
     ]
    }
   ],
   "source": [
    "f = open('dataset/veronika_users.csv', 'a', encoding='utf-8')\n",
    "\n",
    "for row in tqdm(photo_ids[780+1403+416+341+6192+440+4303+1958+6216:38000]):\n",
    "    photo = flickr.do_flickr_call('flickr.photos.getInfo', photo_id=row)\n",
    "    parsed = json.loads(photo.decode('utf-8'))\n",
    "    if 'photo' in parsed:\n",
    "        user = parsed['photo']['owner']['username']\n",
    "        s = str(row) + ',' + user + '\\n'\n",
    "        f.write(s)\n",
    "f.close()\n"
   ]
  }
 ],
 "metadata": {
  "kernelspec": {
   "display_name": "cn",
   "language": "python",
   "name": "cn"
  },
  "language_info": {
   "codemirror_mode": {
    "name": "ipython",
    "version": 3
   },
   "file_extension": ".py",
   "mimetype": "text/x-python",
   "name": "python",
   "nbconvert_exporter": "python",
   "pygments_lexer": "ipython3",
   "version": "3.8.5"
  }
 },
 "nbformat": 4,
 "nbformat_minor": 5
}
